{
  "nbformat": 4,
  "nbformat_minor": 0,
  "metadata": {
    "colab": {
      "provenance": []
    },
    "kernelspec": {
      "name": "python3",
      "display_name": "Python 3"
    },
    "language_info": {
      "name": "python"
    }
  },
  "cells": [
    {
      "cell_type": "markdown",
      "source": [
        "<a target=\"_blank\" href=\"https://colab.research.google.com/github/ashkan-mokarian/d2l-pytorch/blob/main/chapter_rnn/2_language_model.ipynb\">\n",
        "  <img src=\"https://colab.research.google.com/assets/colab-badge.svg\" alt=\"Open In Colab\"/>\n",
        "</a>"
      ],
      "metadata": {
        "id": "WPB9YUtXLEYt"
      }
    },
    {
      "cell_type": "code",
      "source": [
        "%pip install d2l==1.0.0a0"
      ],
      "metadata": {
        "id": "CIzry12NLIuR"
      },
      "execution_count": null,
      "outputs": []
    },
    {
      "cell_type": "markdown",
      "source": [
        "# Preprocessing raw text into sequence data"
      ],
      "metadata": {
        "id": "a6VlFMzoLMJy"
      }
    },
    {
      "cell_type": "code",
      "execution_count": 63,
      "metadata": {
        "id": "YBLx1Pwk_BN8"
      },
      "outputs": [],
      "source": [
        "import collections\n",
        "import random\n",
        "import re\n",
        "import torch\n",
        "from d2l import torch as d2l"
      ]
    },
    {
      "cell_type": "markdown",
      "source": [
        "## Preparing data\n",
        "\n",
        "* download data\n",
        "* remove punctuation and capitalization"
      ],
      "metadata": {
        "id": "I9RCREzrMFUp"
      }
    },
    {
      "cell_type": "code",
      "source": [
        "class TimeMachine(d2l.DataModule):\n",
        "    \"\"\"The Time Machine dataset.\"\"\"\n",
        "    def _download(self):\n",
        "        fname = d2l.download(d2l.DATA_URL + 'timemachine.txt', self.root,\n",
        "                             '090b5e7e70c295757f55df93cb0a180b9691891a')\n",
        "        with open(fname) as f:\n",
        "            return f.read()\n",
        "    \n",
        "    def _preprocess(self, text):\n",
        "        return re.sub('[^A-Za-z]+', ' ', text).lower()\n",
        "\n",
        "data = TimeMachine()\n",
        "raw_text = data._download()\n",
        "raw_text[:60]"
      ],
      "metadata": {
        "colab": {
          "base_uri": "https://localhost:8080/",
          "height": 35
        },
        "id": "iXi5CyF6LqdW",
        "outputId": "0ac95575-2f1b-4a1a-c1de-1810d10c1c71"
      },
      "execution_count": 64,
      "outputs": [
        {
          "output_type": "execute_result",
          "data": {
            "text/plain": [
              "'The Time Machine, by H. G. Wells [1898]\\n\\n\\n\\n\\nI\\n\\n\\nThe Time Tra'"
            ],
            "application/vnd.google.colaboratory.intrinsic+json": {
              "type": "string"
            }
          },
          "metadata": {},
          "execution_count": 64
        }
      ]
    },
    {
      "cell_type": "code",
      "source": [
        "text = data._preprocess(raw_text)\n",
        "text[:60]"
      ],
      "metadata": {
        "colab": {
          "base_uri": "https://localhost:8080/",
          "height": 35
        },
        "id": "xnyrLkclMQzz",
        "outputId": "b34390f1-f6ac-4960-8d8a-1628dc3f2d0e"
      },
      "execution_count": 65,
      "outputs": [
        {
          "output_type": "execute_result",
          "data": {
            "text/plain": [
              "'the time machine by h g wells i the time traveller for so it'"
            ],
            "application/vnd.google.colaboratory.intrinsic+json": {
              "type": "string"
            }
          },
          "metadata": {},
          "execution_count": 65
        }
      ]
    },
    {
      "cell_type": "markdown",
      "source": [
        "## Tokenization\n",
        "**Tokens** are indivisble atomic parts of text. What constitutes a token is a design choice. Here we use characters as tokens."
      ],
      "metadata": {
        "id": "JrSJOiPzNWqq"
      }
    },
    {
      "cell_type": "code",
      "source": [
        "@d2l.add_to_class(TimeMachine)\n",
        "def _tokenize(self, text):\n",
        "    return list(text)\n",
        "\n",
        "tokens = data._tokenize(text)\n",
        "','.join(tokens[:30])"
      ],
      "metadata": {
        "colab": {
          "base_uri": "https://localhost:8080/",
          "height": 35
        },
        "id": "mnc_cucNM2YQ",
        "outputId": "99fa1034-7756-4151-f639-408970747f9d"
      },
      "execution_count": 66,
      "outputs": [
        {
          "output_type": "execute_result",
          "data": {
            "text/plain": [
              "'t,h,e, ,t,i,m,e, ,m,a,c,h,i,n,e, ,b,y, ,h, ,g, ,w,e,l,l,s, '"
            ],
            "application/vnd.google.colaboratory.intrinsic+json": {
              "type": "string"
            }
          },
          "metadata": {},
          "execution_count": 66
        }
      ]
    },
    {
      "cell_type": "markdown",
      "source": [
        "## Vocabulary\n",
        "Each token is still a string. We need to transform these strings into numerical values. To this end, we represent each unique token with an index from a vocabulary set. Furthermore, we use the _'unk'_ token as a replacement for any _unknown_ token."
      ],
      "metadata": {
        "id": "aqS7LOF8OKW-"
      }
    },
    {
      "cell_type": "code",
      "source": [
        "from operator import index\n",
        "class Vocab:\n",
        "    \"\"\"Vocabulary for text.\"\"\"\n",
        "    def __init__(self, tokens=[], min_freq=0, reserved_tokens=[]):\n",
        "        # Flatten a list if needed\n",
        "        if tokens and isinstance(tokens[0], list):\n",
        "            tokens = [token for line in tokens for token in line]\n",
        "\n",
        "        # Count token frequencies\n",
        "        counts = collections.Counter(tokens)\n",
        "        self.token_freqs = sorted(counts.items(), key=lambda x: x[1], reverse=True)\n",
        "        \n",
        "        self.idx_to_token = list(sorted(set(['<unk>'] + reserved_tokens + [\n",
        "            token for token, freq in self.token_freqs if freq >= min_freq\n",
        "        ])))\n",
        "\n",
        "        self.token_to_idx = {token: idx\n",
        "                             for idx, token in enumerate(self.idx_to_token)}\n",
        "    \n",
        "    def __len__(self):\n",
        "        return len(self.idx_to_token)\n",
        "    \n",
        "    def __getitem__(self, tokens):\n",
        "        if not isinstance(tokens, (list, tuple)):\n",
        "            return self.token_to_idx.get(tokens, self.unk)\n",
        "        return [self.__getitem__(token) for token in tokens]\n",
        "    \n",
        "    def to_tokens(self, indices):\n",
        "        if hasattr(indices, '__len__') and len(indices) > 1:\n",
        "            return [self.idx_to_token[int(idx)] for idx in indices]\n",
        "        return self.idx_to_token[indices]\n",
        "    \n",
        "    @property\n",
        "    def unk(self):\n",
        "        return self.token_to_idx['<unk>']"
      ],
      "metadata": {
        "id": "Tu5D0NOINzEl"
      },
      "execution_count": 67,
      "outputs": []
    },
    {
      "cell_type": "code",
      "source": [
        "vocab = Vocab(tokens)\n",
        "print(len(vocab))\n",
        "print('tokens:', tokens[:10])\n",
        "indices = vocab[tokens[:10]]\n",
        "print('indices:', indices)\n",
        "print('words:', vocab.to_tokens(indices))"
      ],
      "metadata": {
        "colab": {
          "base_uri": "https://localhost:8080/"
        },
        "id": "SVWsoUBPQiHs",
        "outputId": "c9172754-e7e6-4a09-9c03-e049ea99ebba"
      },
      "execution_count": 68,
      "outputs": [
        {
          "output_type": "stream",
          "name": "stdout",
          "text": [
            "28\n",
            "tokens: ['t', 'h', 'e', ' ', 't', 'i', 'm', 'e', ' ', 'm']\n",
            "indices: [21, 9, 6, 0, 21, 10, 14, 6, 0, 14]\n",
            "words: ['t', 'h', 'e', ' ', 't', 'i', 'm', 'e', ' ', 'm']\n"
          ]
        }
      ]
    },
    {
      "cell_type": "markdown",
      "source": [
        "## Putting it all together\n",
        "From the raw text to index numerical representation, we did the following:\n",
        "1. preprocess the raw text, removing unnecessary spaces, punctuations, capitalization, etc.\n",
        "2. tokenize the whole raw text based on the atomic design choice of raw text\n",
        "3. build a vocabulary that transforms unique tokens and reserved tokens (<unk>) to numerical indices and vice versa.\n",
        "4. build a corpus of numerical indices of tokens using vocabulary set."
      ],
      "metadata": {
        "id": "hP_rYgLXZBJz"
      }
    },
    {
      "cell_type": "code",
      "source": [
        "@d2l.add_to_class(TimeMachine)\n",
        "def build(self, raw_text, vocab=None):\n",
        "    tokens = self._tokenize(self._preprocess(raw_text))\n",
        "    if vocab is None: vocab = Vocab(tokens)\n",
        "    corpus = [vocab[token] for token in tokens]\n",
        "    return corpus, vocab\n",
        "\n",
        "corpus, vocab = data.build(raw_text)\n",
        "len(corpus), len(vocab)"
      ],
      "metadata": {
        "colab": {
          "base_uri": "https://localhost:8080/"
        },
        "id": "2RQ1uLPgV-gz",
        "outputId": "a30b214d-e617-4d7e-cae0-32a1b324ae1e"
      },
      "execution_count": 69,
      "outputs": [
        {
          "output_type": "execute_result",
          "data": {
            "text/plain": [
              "(173428, 28)"
            ]
          },
          "metadata": {},
          "execution_count": 69
        }
      ]
    },
    {
      "cell_type": "markdown",
      "source": [
        "### Exploratory language statistics"
      ],
      "metadata": {
        "id": "D7FtcjwCatTA"
      }
    },
    {
      "cell_type": "code",
      "source": [
        "words = text.split(' ')\n",
        "vocab_words = Vocab(words)\n",
        "vocab_words.token_freqs[:15]"
      ],
      "metadata": {
        "colab": {
          "base_uri": "https://localhost:8080/"
        },
        "id": "VIEkE9uiZq8Q",
        "outputId": "e8728316-d3f2-48fb-bb35-1040dbe718fd"
      },
      "execution_count": 70,
      "outputs": [
        {
          "output_type": "execute_result",
          "data": {
            "text/plain": [
              "[('the', 2261),\n",
              " ('i', 1267),\n",
              " ('and', 1245),\n",
              " ('of', 1155),\n",
              " ('a', 816),\n",
              " ('to', 695),\n",
              " ('was', 552),\n",
              " ('in', 541),\n",
              " ('that', 443),\n",
              " ('my', 440),\n",
              " ('it', 437),\n",
              " ('had', 354),\n",
              " ('me', 281),\n",
              " ('as', 270),\n",
              " ('at', 243)]"
            ]
          },
          "metadata": {},
          "execution_count": 70
        }
      ]
    },
    {
      "cell_type": "code",
      "source": [
        "freqs = [freq for token, freq in vocab_words.token_freqs]\n",
        "d2l.plot(freqs, xlabel='token:x', ylabel='frequency: n(x)', xscale='log', yscale='log')"
      ],
      "metadata": {
        "colab": {
          "base_uri": "https://localhost:8080/",
          "height": 265
        },
        "id": "yZZAaw4KbAXi",
        "outputId": "06ea59b7-dc3e-47af-97fa-3dee810a1e31"
      },
      "execution_count": 71,
      "outputs": [
        {
          "output_type": "display_data",
          "data": {
            "text/plain": [
              "<Figure size 350x250 with 1 Axes>"
            ],
            "image/svg+xml": "<?xml version=\"1.0\" encoding=\"utf-8\" standalone=\"no\"?>\n<!DOCTYPE svg PUBLIC \"-//W3C//DTD SVG 1.1//EN\"\n  \"http://www.w3.org/Graphics/SVG/1.1/DTD/svg11.dtd\">\n<svg xmlns:xlink=\"http://www.w3.org/1999/xlink\" width=\"247.978125pt\" height=\"183.35625pt\" viewBox=\"0 0 247.978125 183.35625\" xmlns=\"http://www.w3.org/2000/svg\" version=\"1.1\">\n <metadata>\n  <rdf:RDF xmlns:dc=\"http://purl.org/dc/elements/1.1/\" xmlns:cc=\"http://creativecommons.org/ns#\" xmlns:rdf=\"http://www.w3.org/1999/02/22-rdf-syntax-ns#\">\n   <cc:Work>\n    <dc:type rdf:resource=\"http://purl.org/dc/dcmitype/StillImage\"/>\n    <dc:date>2023-05-20T16:26:44.538178</dc:date>\n    <dc:format>image/svg+xml</dc:format>\n    <dc:creator>\n     <cc:Agent>\n      <dc:title>Matplotlib v3.7.1, https://matplotlib.org/</dc:title>\n     </cc:Agent>\n    </dc:creator>\n   </cc:Work>\n  </rdf:RDF>\n </metadata>\n <defs>\n  <style type=\"text/css\">*{stroke-linejoin: round; stroke-linecap: butt}</style>\n </defs>\n <g id=\"figure_1\">\n  <g id=\"patch_1\">\n   <path d=\"M 0 183.35625 \nL 247.978125 183.35625 \nL 247.978125 0 \nL 0 0 \nz\n\" style=\"fill: #ffffff\"/>\n  </g>\n  <g id=\"axes_1\">\n   <g id=\"patch_2\">\n    <path d=\"M 45.478125 145.8 \nL 240.778125 145.8 \nL 240.778125 7.2 \nL 45.478125 7.2 \nz\n\" style=\"fill: #ffffff\"/>\n   </g>\n   <g id=\"matplotlib.axis_1\">\n    <g id=\"xtick_1\">\n     <g id=\"line2d_1\">\n      <path d=\"M 54.355398 145.8 \nL 54.355398 7.2 \n\" clip-path=\"url(#p53f08664ab)\" style=\"fill: none; stroke: #b0b0b0; stroke-width: 0.8; stroke-linecap: square\"/>\n     </g>\n     <g id=\"line2d_2\">\n      <defs>\n       <path id=\"me8658e9410\" d=\"M 0 0 \nL 0 3.5 \n\" style=\"stroke: #000000; stroke-width: 0.8\"/>\n      </defs>\n      <g>\n       <use xlink:href=\"#me8658e9410\" x=\"54.355398\" y=\"145.8\" style=\"stroke: #000000; stroke-width: 0.8\"/>\n      </g>\n     </g>\n     <g id=\"text_1\">\n      <!-- $\\mathdefault{10^{0}}$ -->\n      <g transform=\"translate(45.555398 160.398438) scale(0.1 -0.1)\">\n       <defs>\n        <path id=\"DejaVuSans-31\" d=\"M 794 531 \nL 1825 531 \nL 1825 4091 \nL 703 3866 \nL 703 4441 \nL 1819 4666 \nL 2450 4666 \nL 2450 531 \nL 3481 531 \nL 3481 0 \nL 794 0 \nL 794 531 \nz\n\" transform=\"scale(0.015625)\"/>\n        <path id=\"DejaVuSans-30\" d=\"M 2034 4250 \nQ 1547 4250 1301 3770 \nQ 1056 3291 1056 2328 \nQ 1056 1369 1301 889 \nQ 1547 409 2034 409 \nQ 2525 409 2770 889 \nQ 3016 1369 3016 2328 \nQ 3016 3291 2770 3770 \nQ 2525 4250 2034 4250 \nz\nM 2034 4750 \nQ 2819 4750 3233 4129 \nQ 3647 3509 3647 2328 \nQ 3647 1150 3233 529 \nQ 2819 -91 2034 -91 \nQ 1250 -91 836 529 \nQ 422 1150 422 2328 \nQ 422 3509 836 4129 \nQ 1250 4750 2034 4750 \nz\n\" transform=\"scale(0.015625)\"/>\n       </defs>\n       <use xlink:href=\"#DejaVuSans-31\" transform=\"translate(0 0.765625)\"/>\n       <use xlink:href=\"#DejaVuSans-30\" transform=\"translate(63.623047 0.765625)\"/>\n       <use xlink:href=\"#DejaVuSans-30\" transform=\"translate(128.203125 39.046875) scale(0.7)\"/>\n      </g>\n     </g>\n    </g>\n    <g id=\"xtick_2\">\n     <g id=\"line2d_3\">\n      <path d=\"M 102.854873 145.8 \nL 102.854873 7.2 \n\" clip-path=\"url(#p53f08664ab)\" style=\"fill: none; stroke: #b0b0b0; stroke-width: 0.8; stroke-linecap: square\"/>\n     </g>\n     <g id=\"line2d_4\">\n      <g>\n       <use xlink:href=\"#me8658e9410\" x=\"102.854873\" y=\"145.8\" style=\"stroke: #000000; stroke-width: 0.8\"/>\n      </g>\n     </g>\n     <g id=\"text_2\">\n      <!-- $\\mathdefault{10^{1}}$ -->\n      <g transform=\"translate(94.054873 160.398438) scale(0.1 -0.1)\">\n       <use xlink:href=\"#DejaVuSans-31\" transform=\"translate(0 0.684375)\"/>\n       <use xlink:href=\"#DejaVuSans-30\" transform=\"translate(63.623047 0.684375)\"/>\n       <use xlink:href=\"#DejaVuSans-31\" transform=\"translate(128.203125 38.965625) scale(0.7)\"/>\n      </g>\n     </g>\n    </g>\n    <g id=\"xtick_3\">\n     <g id=\"line2d_5\">\n      <path d=\"M 151.354348 145.8 \nL 151.354348 7.2 \n\" clip-path=\"url(#p53f08664ab)\" style=\"fill: none; stroke: #b0b0b0; stroke-width: 0.8; stroke-linecap: square\"/>\n     </g>\n     <g id=\"line2d_6\">\n      <g>\n       <use xlink:href=\"#me8658e9410\" x=\"151.354348\" y=\"145.8\" style=\"stroke: #000000; stroke-width: 0.8\"/>\n      </g>\n     </g>\n     <g id=\"text_3\">\n      <!-- $\\mathdefault{10^{2}}$ -->\n      <g transform=\"translate(142.554348 160.398438) scale(0.1 -0.1)\">\n       <defs>\n        <path id=\"DejaVuSans-32\" d=\"M 1228 531 \nL 3431 531 \nL 3431 0 \nL 469 0 \nL 469 531 \nQ 828 903 1448 1529 \nQ 2069 2156 2228 2338 \nQ 2531 2678 2651 2914 \nQ 2772 3150 2772 3378 \nQ 2772 3750 2511 3984 \nQ 2250 4219 1831 4219 \nQ 1534 4219 1204 4116 \nQ 875 4013 500 3803 \nL 500 4441 \nQ 881 4594 1212 4672 \nQ 1544 4750 1819 4750 \nQ 2544 4750 2975 4387 \nQ 3406 4025 3406 3419 \nQ 3406 3131 3298 2873 \nQ 3191 2616 2906 2266 \nQ 2828 2175 2409 1742 \nQ 1991 1309 1228 531 \nz\n\" transform=\"scale(0.015625)\"/>\n       </defs>\n       <use xlink:href=\"#DejaVuSans-31\" transform=\"translate(0 0.765625)\"/>\n       <use xlink:href=\"#DejaVuSans-30\" transform=\"translate(63.623047 0.765625)\"/>\n       <use xlink:href=\"#DejaVuSans-32\" transform=\"translate(128.203125 39.046875) scale(0.7)\"/>\n      </g>\n     </g>\n    </g>\n    <g id=\"xtick_4\">\n     <g id=\"line2d_7\">\n      <path d=\"M 199.853823 145.8 \nL 199.853823 7.2 \n\" clip-path=\"url(#p53f08664ab)\" style=\"fill: none; stroke: #b0b0b0; stroke-width: 0.8; stroke-linecap: square\"/>\n     </g>\n     <g id=\"line2d_8\">\n      <g>\n       <use xlink:href=\"#me8658e9410\" x=\"199.853823\" y=\"145.8\" style=\"stroke: #000000; stroke-width: 0.8\"/>\n      </g>\n     </g>\n     <g id=\"text_4\">\n      <!-- $\\mathdefault{10^{3}}$ -->\n      <g transform=\"translate(191.053823 160.398438) scale(0.1 -0.1)\">\n       <defs>\n        <path id=\"DejaVuSans-33\" d=\"M 2597 2516 \nQ 3050 2419 3304 2112 \nQ 3559 1806 3559 1356 \nQ 3559 666 3084 287 \nQ 2609 -91 1734 -91 \nQ 1441 -91 1130 -33 \nQ 819 25 488 141 \nL 488 750 \nQ 750 597 1062 519 \nQ 1375 441 1716 441 \nQ 2309 441 2620 675 \nQ 2931 909 2931 1356 \nQ 2931 1769 2642 2001 \nQ 2353 2234 1838 2234 \nL 1294 2234 \nL 1294 2753 \nL 1863 2753 \nQ 2328 2753 2575 2939 \nQ 2822 3125 2822 3475 \nQ 2822 3834 2567 4026 \nQ 2313 4219 1838 4219 \nQ 1578 4219 1281 4162 \nQ 984 4106 628 3988 \nL 628 4550 \nQ 988 4650 1302 4700 \nQ 1616 4750 1894 4750 \nQ 2613 4750 3031 4423 \nQ 3450 4097 3450 3541 \nQ 3450 3153 3228 2886 \nQ 3006 2619 2597 2516 \nz\n\" transform=\"scale(0.015625)\"/>\n       </defs>\n       <use xlink:href=\"#DejaVuSans-31\" transform=\"translate(0 0.765625)\"/>\n       <use xlink:href=\"#DejaVuSans-30\" transform=\"translate(63.623047 0.765625)\"/>\n       <use xlink:href=\"#DejaVuSans-33\" transform=\"translate(128.203125 39.046875) scale(0.7)\"/>\n      </g>\n     </g>\n    </g>\n    <g id=\"xtick_5\">\n     <g id=\"line2d_9\">\n      <defs>\n       <path id=\"m5068892dd1\" d=\"M 0 0 \nL 0 2 \n\" style=\"stroke: #000000; stroke-width: 0.6\"/>\n      </defs>\n      <g>\n       <use xlink:href=\"#m5068892dd1\" x=\"46.842734\" y=\"145.8\" style=\"stroke: #000000; stroke-width: 0.6\"/>\n      </g>\n     </g>\n    </g>\n    <g id=\"xtick_6\">\n     <g id=\"line2d_10\">\n      <g>\n       <use xlink:href=\"#m5068892dd1\" x=\"49.655313\" y=\"145.8\" style=\"stroke: #000000; stroke-width: 0.6\"/>\n      </g>\n     </g>\n    </g>\n    <g id=\"xtick_7\">\n     <g id=\"line2d_11\">\n      <g>\n       <use xlink:href=\"#m5068892dd1\" x=\"52.136183\" y=\"145.8\" style=\"stroke: #000000; stroke-width: 0.6\"/>\n      </g>\n     </g>\n    </g>\n    <g id=\"xtick_8\">\n     <g id=\"line2d_12\">\n      <g>\n       <use xlink:href=\"#m5068892dd1\" x=\"68.955194\" y=\"145.8\" style=\"stroke: #000000; stroke-width: 0.6\"/>\n      </g>\n     </g>\n    </g>\n    <g id=\"xtick_9\">\n     <g id=\"line2d_13\">\n      <g>\n       <use xlink:href=\"#m5068892dd1\" x=\"77.495528\" y=\"145.8\" style=\"stroke: #000000; stroke-width: 0.6\"/>\n      </g>\n     </g>\n    </g>\n    <g id=\"xtick_10\">\n     <g id=\"line2d_14\">\n      <g>\n       <use xlink:href=\"#m5068892dd1\" x=\"83.554991\" y=\"145.8\" style=\"stroke: #000000; stroke-width: 0.6\"/>\n      </g>\n     </g>\n    </g>\n    <g id=\"xtick_11\">\n     <g id=\"line2d_15\">\n      <g>\n       <use xlink:href=\"#m5068892dd1\" x=\"88.255076\" y=\"145.8\" style=\"stroke: #000000; stroke-width: 0.6\"/>\n      </g>\n     </g>\n    </g>\n    <g id=\"xtick_12\">\n     <g id=\"line2d_16\">\n      <g>\n       <use xlink:href=\"#m5068892dd1\" x=\"92.095325\" y=\"145.8\" style=\"stroke: #000000; stroke-width: 0.6\"/>\n      </g>\n     </g>\n    </g>\n    <g id=\"xtick_13\">\n     <g id=\"line2d_17\">\n      <g>\n       <use xlink:href=\"#m5068892dd1\" x=\"95.342209\" y=\"145.8\" style=\"stroke: #000000; stroke-width: 0.6\"/>\n      </g>\n     </g>\n    </g>\n    <g id=\"xtick_14\">\n     <g id=\"line2d_18\">\n      <g>\n       <use xlink:href=\"#m5068892dd1\" x=\"98.154788\" y=\"145.8\" style=\"stroke: #000000; stroke-width: 0.6\"/>\n      </g>\n     </g>\n    </g>\n    <g id=\"xtick_15\">\n     <g id=\"line2d_19\">\n      <g>\n       <use xlink:href=\"#m5068892dd1\" x=\"100.635659\" y=\"145.8\" style=\"stroke: #000000; stroke-width: 0.6\"/>\n      </g>\n     </g>\n    </g>\n    <g id=\"xtick_16\">\n     <g id=\"line2d_20\">\n      <g>\n       <use xlink:href=\"#m5068892dd1\" x=\"117.45467\" y=\"145.8\" style=\"stroke: #000000; stroke-width: 0.6\"/>\n      </g>\n     </g>\n    </g>\n    <g id=\"xtick_17\">\n     <g id=\"line2d_21\">\n      <g>\n       <use xlink:href=\"#m5068892dd1\" x=\"125.995003\" y=\"145.8\" style=\"stroke: #000000; stroke-width: 0.6\"/>\n      </g>\n     </g>\n    </g>\n    <g id=\"xtick_18\">\n     <g id=\"line2d_22\">\n      <g>\n       <use xlink:href=\"#m5068892dd1\" x=\"132.054466\" y=\"145.8\" style=\"stroke: #000000; stroke-width: 0.6\"/>\n      </g>\n     </g>\n    </g>\n    <g id=\"xtick_19\">\n     <g id=\"line2d_23\">\n      <g>\n       <use xlink:href=\"#m5068892dd1\" x=\"136.754551\" y=\"145.8\" style=\"stroke: #000000; stroke-width: 0.6\"/>\n      </g>\n     </g>\n    </g>\n    <g id=\"xtick_20\">\n     <g id=\"line2d_24\">\n      <g>\n       <use xlink:href=\"#m5068892dd1\" x=\"140.5948\" y=\"145.8\" style=\"stroke: #000000; stroke-width: 0.6\"/>\n      </g>\n     </g>\n    </g>\n    <g id=\"xtick_21\">\n     <g id=\"line2d_25\">\n      <g>\n       <use xlink:href=\"#m5068892dd1\" x=\"143.841684\" y=\"145.8\" style=\"stroke: #000000; stroke-width: 0.6\"/>\n      </g>\n     </g>\n    </g>\n    <g id=\"xtick_22\">\n     <g id=\"line2d_26\">\n      <g>\n       <use xlink:href=\"#m5068892dd1\" x=\"146.654263\" y=\"145.8\" style=\"stroke: #000000; stroke-width: 0.6\"/>\n      </g>\n     </g>\n    </g>\n    <g id=\"xtick_23\">\n     <g id=\"line2d_27\">\n      <g>\n       <use xlink:href=\"#m5068892dd1\" x=\"149.135134\" y=\"145.8\" style=\"stroke: #000000; stroke-width: 0.6\"/>\n      </g>\n     </g>\n    </g>\n    <g id=\"xtick_24\">\n     <g id=\"line2d_28\">\n      <g>\n       <use xlink:href=\"#m5068892dd1\" x=\"165.954145\" y=\"145.8\" style=\"stroke: #000000; stroke-width: 0.6\"/>\n      </g>\n     </g>\n    </g>\n    <g id=\"xtick_25\">\n     <g id=\"line2d_29\">\n      <g>\n       <use xlink:href=\"#m5068892dd1\" x=\"174.494478\" y=\"145.8\" style=\"stroke: #000000; stroke-width: 0.6\"/>\n      </g>\n     </g>\n    </g>\n    <g id=\"xtick_26\">\n     <g id=\"line2d_30\">\n      <g>\n       <use xlink:href=\"#m5068892dd1\" x=\"180.553941\" y=\"145.8\" style=\"stroke: #000000; stroke-width: 0.6\"/>\n      </g>\n     </g>\n    </g>\n    <g id=\"xtick_27\">\n     <g id=\"line2d_31\">\n      <g>\n       <use xlink:href=\"#m5068892dd1\" x=\"185.254026\" y=\"145.8\" style=\"stroke: #000000; stroke-width: 0.6\"/>\n      </g>\n     </g>\n    </g>\n    <g id=\"xtick_28\">\n     <g id=\"line2d_32\">\n      <g>\n       <use xlink:href=\"#m5068892dd1\" x=\"189.094275\" y=\"145.8\" style=\"stroke: #000000; stroke-width: 0.6\"/>\n      </g>\n     </g>\n    </g>\n    <g id=\"xtick_29\">\n     <g id=\"line2d_33\">\n      <g>\n       <use xlink:href=\"#m5068892dd1\" x=\"192.341159\" y=\"145.8\" style=\"stroke: #000000; stroke-width: 0.6\"/>\n      </g>\n     </g>\n    </g>\n    <g id=\"xtick_30\">\n     <g id=\"line2d_34\">\n      <g>\n       <use xlink:href=\"#m5068892dd1\" x=\"195.153738\" y=\"145.8\" style=\"stroke: #000000; stroke-width: 0.6\"/>\n      </g>\n     </g>\n    </g>\n    <g id=\"xtick_31\">\n     <g id=\"line2d_35\">\n      <g>\n       <use xlink:href=\"#m5068892dd1\" x=\"197.634609\" y=\"145.8\" style=\"stroke: #000000; stroke-width: 0.6\"/>\n      </g>\n     </g>\n    </g>\n    <g id=\"xtick_32\">\n     <g id=\"line2d_36\">\n      <g>\n       <use xlink:href=\"#m5068892dd1\" x=\"214.45362\" y=\"145.8\" style=\"stroke: #000000; stroke-width: 0.6\"/>\n      </g>\n     </g>\n    </g>\n    <g id=\"xtick_33\">\n     <g id=\"line2d_37\">\n      <g>\n       <use xlink:href=\"#m5068892dd1\" x=\"222.993953\" y=\"145.8\" style=\"stroke: #000000; stroke-width: 0.6\"/>\n      </g>\n     </g>\n    </g>\n    <g id=\"xtick_34\">\n     <g id=\"line2d_38\">\n      <g>\n       <use xlink:href=\"#m5068892dd1\" x=\"229.053416\" y=\"145.8\" style=\"stroke: #000000; stroke-width: 0.6\"/>\n      </g>\n     </g>\n    </g>\n    <g id=\"xtick_35\">\n     <g id=\"line2d_39\">\n      <g>\n       <use xlink:href=\"#m5068892dd1\" x=\"233.753501\" y=\"145.8\" style=\"stroke: #000000; stroke-width: 0.6\"/>\n      </g>\n     </g>\n    </g>\n    <g id=\"xtick_36\">\n     <g id=\"line2d_40\">\n      <g>\n       <use xlink:href=\"#m5068892dd1\" x=\"237.59375\" y=\"145.8\" style=\"stroke: #000000; stroke-width: 0.6\"/>\n      </g>\n     </g>\n    </g>\n    <g id=\"text_5\">\n     <!-- token:x -->\n     <g transform=\"translate(124.505469 174.076563) scale(0.1 -0.1)\">\n      <defs>\n       <path id=\"DejaVuSans-74\" d=\"M 1172 4494 \nL 1172 3500 \nL 2356 3500 \nL 2356 3053 \nL 1172 3053 \nL 1172 1153 \nQ 1172 725 1289 603 \nQ 1406 481 1766 481 \nL 2356 481 \nL 2356 0 \nL 1766 0 \nQ 1100 0 847 248 \nQ 594 497 594 1153 \nL 594 3053 \nL 172 3053 \nL 172 3500 \nL 594 3500 \nL 594 4494 \nL 1172 4494 \nz\n\" transform=\"scale(0.015625)\"/>\n       <path id=\"DejaVuSans-6f\" d=\"M 1959 3097 \nQ 1497 3097 1228 2736 \nQ 959 2375 959 1747 \nQ 959 1119 1226 758 \nQ 1494 397 1959 397 \nQ 2419 397 2687 759 \nQ 2956 1122 2956 1747 \nQ 2956 2369 2687 2733 \nQ 2419 3097 1959 3097 \nz\nM 1959 3584 \nQ 2709 3584 3137 3096 \nQ 3566 2609 3566 1747 \nQ 3566 888 3137 398 \nQ 2709 -91 1959 -91 \nQ 1206 -91 779 398 \nQ 353 888 353 1747 \nQ 353 2609 779 3096 \nQ 1206 3584 1959 3584 \nz\n\" transform=\"scale(0.015625)\"/>\n       <path id=\"DejaVuSans-6b\" d=\"M 581 4863 \nL 1159 4863 \nL 1159 1991 \nL 2875 3500 \nL 3609 3500 \nL 1753 1863 \nL 3688 0 \nL 2938 0 \nL 1159 1709 \nL 1159 0 \nL 581 0 \nL 581 4863 \nz\n\" transform=\"scale(0.015625)\"/>\n       <path id=\"DejaVuSans-65\" d=\"M 3597 1894 \nL 3597 1613 \nL 953 1613 \nQ 991 1019 1311 708 \nQ 1631 397 2203 397 \nQ 2534 397 2845 478 \nQ 3156 559 3463 722 \nL 3463 178 \nQ 3153 47 2828 -22 \nQ 2503 -91 2169 -91 \nQ 1331 -91 842 396 \nQ 353 884 353 1716 \nQ 353 2575 817 3079 \nQ 1281 3584 2069 3584 \nQ 2775 3584 3186 3129 \nQ 3597 2675 3597 1894 \nz\nM 3022 2063 \nQ 3016 2534 2758 2815 \nQ 2500 3097 2075 3097 \nQ 1594 3097 1305 2825 \nQ 1016 2553 972 2059 \nL 3022 2063 \nz\n\" transform=\"scale(0.015625)\"/>\n       <path id=\"DejaVuSans-6e\" d=\"M 3513 2113 \nL 3513 0 \nL 2938 0 \nL 2938 2094 \nQ 2938 2591 2744 2837 \nQ 2550 3084 2163 3084 \nQ 1697 3084 1428 2787 \nQ 1159 2491 1159 1978 \nL 1159 0 \nL 581 0 \nL 581 3500 \nL 1159 3500 \nL 1159 2956 \nQ 1366 3272 1645 3428 \nQ 1925 3584 2291 3584 \nQ 2894 3584 3203 3211 \nQ 3513 2838 3513 2113 \nz\n\" transform=\"scale(0.015625)\"/>\n       <path id=\"DejaVuSans-3a\" d=\"M 750 794 \nL 1409 794 \nL 1409 0 \nL 750 0 \nL 750 794 \nz\nM 750 3309 \nL 1409 3309 \nL 1409 2516 \nL 750 2516 \nL 750 3309 \nz\n\" transform=\"scale(0.015625)\"/>\n       <path id=\"DejaVuSans-78\" d=\"M 3513 3500 \nL 2247 1797 \nL 3578 0 \nL 2900 0 \nL 1881 1375 \nL 863 0 \nL 184 0 \nL 1544 1831 \nL 300 3500 \nL 978 3500 \nL 1906 2253 \nL 2834 3500 \nL 3513 3500 \nz\n\" transform=\"scale(0.015625)\"/>\n      </defs>\n      <use xlink:href=\"#DejaVuSans-74\"/>\n      <use xlink:href=\"#DejaVuSans-6f\" x=\"39.208984\"/>\n      <use xlink:href=\"#DejaVuSans-6b\" x=\"100.390625\"/>\n      <use xlink:href=\"#DejaVuSans-65\" x=\"154.675781\"/>\n      <use xlink:href=\"#DejaVuSans-6e\" x=\"216.199219\"/>\n      <use xlink:href=\"#DejaVuSans-3a\" x=\"279.578125\"/>\n      <use xlink:href=\"#DejaVuSans-78\" x=\"313.269531\"/>\n     </g>\n    </g>\n   </g>\n   <g id=\"matplotlib.axis_2\">\n    <g id=\"ytick_1\">\n     <g id=\"line2d_41\">\n      <path d=\"M 45.478125 139.5 \nL 240.778125 139.5 \n\" clip-path=\"url(#p53f08664ab)\" style=\"fill: none; stroke: #b0b0b0; stroke-width: 0.8; stroke-linecap: square\"/>\n     </g>\n     <g id=\"line2d_42\">\n      <defs>\n       <path id=\"m98206e4a6a\" d=\"M 0 0 \nL -3.5 0 \n\" style=\"stroke: #000000; stroke-width: 0.8\"/>\n      </defs>\n      <g>\n       <use xlink:href=\"#m98206e4a6a\" x=\"45.478125\" y=\"139.5\" style=\"stroke: #000000; stroke-width: 0.8\"/>\n      </g>\n     </g>\n     <g id=\"text_6\">\n      <!-- $\\mathdefault{10^{0}}$ -->\n      <g transform=\"translate(20.878125 143.299219) scale(0.1 -0.1)\">\n       <use xlink:href=\"#DejaVuSans-31\" transform=\"translate(0 0.765625)\"/>\n       <use xlink:href=\"#DejaVuSans-30\" transform=\"translate(63.623047 0.765625)\"/>\n       <use xlink:href=\"#DejaVuSans-30\" transform=\"translate(128.203125 39.046875) scale(0.7)\"/>\n      </g>\n     </g>\n    </g>\n    <g id=\"ytick_2\">\n     <g id=\"line2d_43\">\n      <path d=\"M 45.478125 101.936282 \nL 240.778125 101.936282 \n\" clip-path=\"url(#p53f08664ab)\" style=\"fill: none; stroke: #b0b0b0; stroke-width: 0.8; stroke-linecap: square\"/>\n     </g>\n     <g id=\"line2d_44\">\n      <g>\n       <use xlink:href=\"#m98206e4a6a\" x=\"45.478125\" y=\"101.936282\" style=\"stroke: #000000; stroke-width: 0.8\"/>\n      </g>\n     </g>\n     <g id=\"text_7\">\n      <!-- $\\mathdefault{10^{1}}$ -->\n      <g transform=\"translate(20.878125 105.735501) scale(0.1 -0.1)\">\n       <use xlink:href=\"#DejaVuSans-31\" transform=\"translate(0 0.684375)\"/>\n       <use xlink:href=\"#DejaVuSans-30\" transform=\"translate(63.623047 0.684375)\"/>\n       <use xlink:href=\"#DejaVuSans-31\" transform=\"translate(128.203125 38.965625) scale(0.7)\"/>\n      </g>\n     </g>\n    </g>\n    <g id=\"ytick_3\">\n     <g id=\"line2d_45\">\n      <path d=\"M 45.478125 64.372564 \nL 240.778125 64.372564 \n\" clip-path=\"url(#p53f08664ab)\" style=\"fill: none; stroke: #b0b0b0; stroke-width: 0.8; stroke-linecap: square\"/>\n     </g>\n     <g id=\"line2d_46\">\n      <g>\n       <use xlink:href=\"#m98206e4a6a\" x=\"45.478125\" y=\"64.372564\" style=\"stroke: #000000; stroke-width: 0.8\"/>\n      </g>\n     </g>\n     <g id=\"text_8\">\n      <!-- $\\mathdefault{10^{2}}$ -->\n      <g transform=\"translate(20.878125 68.171783) scale(0.1 -0.1)\">\n       <use xlink:href=\"#DejaVuSans-31\" transform=\"translate(0 0.765625)\"/>\n       <use xlink:href=\"#DejaVuSans-30\" transform=\"translate(63.623047 0.765625)\"/>\n       <use xlink:href=\"#DejaVuSans-32\" transform=\"translate(128.203125 39.046875) scale(0.7)\"/>\n      </g>\n     </g>\n    </g>\n    <g id=\"ytick_4\">\n     <g id=\"line2d_47\">\n      <path d=\"M 45.478125 26.808846 \nL 240.778125 26.808846 \n\" clip-path=\"url(#p53f08664ab)\" style=\"fill: none; stroke: #b0b0b0; stroke-width: 0.8; stroke-linecap: square\"/>\n     </g>\n     <g id=\"line2d_48\">\n      <g>\n       <use xlink:href=\"#m98206e4a6a\" x=\"45.478125\" y=\"26.808846\" style=\"stroke: #000000; stroke-width: 0.8\"/>\n      </g>\n     </g>\n     <g id=\"text_9\">\n      <!-- $\\mathdefault{10^{3}}$ -->\n      <g transform=\"translate(20.878125 30.608065) scale(0.1 -0.1)\">\n       <use xlink:href=\"#DejaVuSans-31\" transform=\"translate(0 0.765625)\"/>\n       <use xlink:href=\"#DejaVuSans-30\" transform=\"translate(63.623047 0.765625)\"/>\n       <use xlink:href=\"#DejaVuSans-33\" transform=\"translate(128.203125 39.046875) scale(0.7)\"/>\n      </g>\n     </g>\n    </g>\n    <g id=\"ytick_5\">\n     <g id=\"line2d_49\">\n      <defs>\n       <path id=\"m3ebcdf7328\" d=\"M 0 0 \nL -2 0 \n\" style=\"stroke: #000000; stroke-width: 0.6\"/>\n      </defs>\n      <g>\n       <use xlink:href=\"#m3ebcdf7328\" x=\"45.478125\" y=\"145.318694\" style=\"stroke: #000000; stroke-width: 0.6\"/>\n      </g>\n     </g>\n    </g>\n    <g id=\"ytick_6\">\n     <g id=\"line2d_50\">\n      <g>\n       <use xlink:href=\"#m3ebcdf7328\" x=\"45.478125\" y=\"143.1403\" style=\"stroke: #000000; stroke-width: 0.6\"/>\n      </g>\n     </g>\n    </g>\n    <g id=\"ytick_7\">\n     <g id=\"line2d_51\">\n      <g>\n       <use xlink:href=\"#m3ebcdf7328\" x=\"45.478125\" y=\"141.218821\" style=\"stroke: #000000; stroke-width: 0.6\"/>\n      </g>\n     </g>\n    </g>\n    <g id=\"ytick_8\">\n     <g id=\"line2d_52\">\n      <g>\n       <use xlink:href=\"#m3ebcdf7328\" x=\"45.478125\" y=\"128.192194\" style=\"stroke: #000000; stroke-width: 0.6\"/>\n      </g>\n     </g>\n    </g>\n    <g id=\"ytick_9\">\n     <g id=\"line2d_53\">\n      <g>\n       <use xlink:href=\"#m3ebcdf7328\" x=\"45.478125\" y=\"121.577552\" style=\"stroke: #000000; stroke-width: 0.6\"/>\n      </g>\n     </g>\n    </g>\n    <g id=\"ytick_10\">\n     <g id=\"line2d_54\">\n      <g>\n       <use xlink:href=\"#m3ebcdf7328\" x=\"45.478125\" y=\"116.884388\" style=\"stroke: #000000; stroke-width: 0.6\"/>\n      </g>\n     </g>\n    </g>\n    <g id=\"ytick_11\">\n     <g id=\"line2d_55\">\n      <g>\n       <use xlink:href=\"#m3ebcdf7328\" x=\"45.478125\" y=\"113.244088\" style=\"stroke: #000000; stroke-width: 0.6\"/>\n      </g>\n     </g>\n    </g>\n    <g id=\"ytick_12\">\n     <g id=\"line2d_56\">\n      <g>\n       <use xlink:href=\"#m3ebcdf7328\" x=\"45.478125\" y=\"110.269746\" style=\"stroke: #000000; stroke-width: 0.6\"/>\n      </g>\n     </g>\n    </g>\n    <g id=\"ytick_13\">\n     <g id=\"line2d_57\">\n      <g>\n       <use xlink:href=\"#m3ebcdf7328\" x=\"45.478125\" y=\"107.754976\" style=\"stroke: #000000; stroke-width: 0.6\"/>\n      </g>\n     </g>\n    </g>\n    <g id=\"ytick_14\">\n     <g id=\"line2d_58\">\n      <g>\n       <use xlink:href=\"#m3ebcdf7328\" x=\"45.478125\" y=\"105.576583\" style=\"stroke: #000000; stroke-width: 0.6\"/>\n      </g>\n     </g>\n    </g>\n    <g id=\"ytick_15\">\n     <g id=\"line2d_59\">\n      <g>\n       <use xlink:href=\"#m3ebcdf7328\" x=\"45.478125\" y=\"103.655104\" style=\"stroke: #000000; stroke-width: 0.6\"/>\n      </g>\n     </g>\n    </g>\n    <g id=\"ytick_16\">\n     <g id=\"line2d_60\">\n      <g>\n       <use xlink:href=\"#m3ebcdf7328\" x=\"45.478125\" y=\"90.628476\" style=\"stroke: #000000; stroke-width: 0.6\"/>\n      </g>\n     </g>\n    </g>\n    <g id=\"ytick_17\">\n     <g id=\"line2d_61\">\n      <g>\n       <use xlink:href=\"#m3ebcdf7328\" x=\"45.478125\" y=\"84.013834\" style=\"stroke: #000000; stroke-width: 0.6\"/>\n      </g>\n     </g>\n    </g>\n    <g id=\"ytick_18\">\n     <g id=\"line2d_62\">\n      <g>\n       <use xlink:href=\"#m3ebcdf7328\" x=\"45.478125\" y=\"79.32067\" style=\"stroke: #000000; stroke-width: 0.6\"/>\n      </g>\n     </g>\n    </g>\n    <g id=\"ytick_19\">\n     <g id=\"line2d_63\">\n      <g>\n       <use xlink:href=\"#m3ebcdf7328\" x=\"45.478125\" y=\"75.68037\" style=\"stroke: #000000; stroke-width: 0.6\"/>\n      </g>\n     </g>\n    </g>\n    <g id=\"ytick_20\">\n     <g id=\"line2d_64\">\n      <g>\n       <use xlink:href=\"#m3ebcdf7328\" x=\"45.478125\" y=\"72.706028\" style=\"stroke: #000000; stroke-width: 0.6\"/>\n      </g>\n     </g>\n    </g>\n    <g id=\"ytick_21\">\n     <g id=\"line2d_65\">\n      <g>\n       <use xlink:href=\"#m3ebcdf7328\" x=\"45.478125\" y=\"70.191258\" style=\"stroke: #000000; stroke-width: 0.6\"/>\n      </g>\n     </g>\n    </g>\n    <g id=\"ytick_22\">\n     <g id=\"line2d_66\">\n      <g>\n       <use xlink:href=\"#m3ebcdf7328\" x=\"45.478125\" y=\"68.012865\" style=\"stroke: #000000; stroke-width: 0.6\"/>\n      </g>\n     </g>\n    </g>\n    <g id=\"ytick_23\">\n     <g id=\"line2d_67\">\n      <g>\n       <use xlink:href=\"#m3ebcdf7328\" x=\"45.478125\" y=\"66.091386\" style=\"stroke: #000000; stroke-width: 0.6\"/>\n      </g>\n     </g>\n    </g>\n    <g id=\"ytick_24\">\n     <g id=\"line2d_68\">\n      <g>\n       <use xlink:href=\"#m3ebcdf7328\" x=\"45.478125\" y=\"53.064758\" style=\"stroke: #000000; stroke-width: 0.6\"/>\n      </g>\n     </g>\n    </g>\n    <g id=\"ytick_25\">\n     <g id=\"line2d_69\">\n      <g>\n       <use xlink:href=\"#m3ebcdf7328\" x=\"45.478125\" y=\"46.450116\" style=\"stroke: #000000; stroke-width: 0.6\"/>\n      </g>\n     </g>\n    </g>\n    <g id=\"ytick_26\">\n     <g id=\"line2d_70\">\n      <g>\n       <use xlink:href=\"#m3ebcdf7328\" x=\"45.478125\" y=\"41.756953\" style=\"stroke: #000000; stroke-width: 0.6\"/>\n      </g>\n     </g>\n    </g>\n    <g id=\"ytick_27\">\n     <g id=\"line2d_71\">\n      <g>\n       <use xlink:href=\"#m3ebcdf7328\" x=\"45.478125\" y=\"38.116652\" style=\"stroke: #000000; stroke-width: 0.6\"/>\n      </g>\n     </g>\n    </g>\n    <g id=\"ytick_28\">\n     <g id=\"line2d_72\">\n      <g>\n       <use xlink:href=\"#m3ebcdf7328\" x=\"45.478125\" y=\"35.14231\" style=\"stroke: #000000; stroke-width: 0.6\"/>\n      </g>\n     </g>\n    </g>\n    <g id=\"ytick_29\">\n     <g id=\"line2d_73\">\n      <g>\n       <use xlink:href=\"#m3ebcdf7328\" x=\"45.478125\" y=\"32.62754\" style=\"stroke: #000000; stroke-width: 0.6\"/>\n      </g>\n     </g>\n    </g>\n    <g id=\"ytick_30\">\n     <g id=\"line2d_74\">\n      <g>\n       <use xlink:href=\"#m3ebcdf7328\" x=\"45.478125\" y=\"30.449147\" style=\"stroke: #000000; stroke-width: 0.6\"/>\n      </g>\n     </g>\n    </g>\n    <g id=\"ytick_31\">\n     <g id=\"line2d_75\">\n      <g>\n       <use xlink:href=\"#m3ebcdf7328\" x=\"45.478125\" y=\"28.527668\" style=\"stroke: #000000; stroke-width: 0.6\"/>\n      </g>\n     </g>\n    </g>\n    <g id=\"ytick_32\">\n     <g id=\"line2d_76\">\n      <g>\n       <use xlink:href=\"#m3ebcdf7328\" x=\"45.478125\" y=\"15.501041\" style=\"stroke: #000000; stroke-width: 0.6\"/>\n      </g>\n     </g>\n    </g>\n    <g id=\"ytick_33\">\n     <g id=\"line2d_77\">\n      <g>\n       <use xlink:href=\"#m3ebcdf7328\" x=\"45.478125\" y=\"8.886398\" style=\"stroke: #000000; stroke-width: 0.6\"/>\n      </g>\n     </g>\n    </g>\n    <g id=\"text_10\">\n     <!-- frequency: n(x) -->\n     <g transform=\"translate(14.798438 114.517188) rotate(-90) scale(0.1 -0.1)\">\n      <defs>\n       <path id=\"DejaVuSans-66\" d=\"M 2375 4863 \nL 2375 4384 \nL 1825 4384 \nQ 1516 4384 1395 4259 \nQ 1275 4134 1275 3809 \nL 1275 3500 \nL 2222 3500 \nL 2222 3053 \nL 1275 3053 \nL 1275 0 \nL 697 0 \nL 697 3053 \nL 147 3053 \nL 147 3500 \nL 697 3500 \nL 697 3744 \nQ 697 4328 969 4595 \nQ 1241 4863 1831 4863 \nL 2375 4863 \nz\n\" transform=\"scale(0.015625)\"/>\n       <path id=\"DejaVuSans-72\" d=\"M 2631 2963 \nQ 2534 3019 2420 3045 \nQ 2306 3072 2169 3072 \nQ 1681 3072 1420 2755 \nQ 1159 2438 1159 1844 \nL 1159 0 \nL 581 0 \nL 581 3500 \nL 1159 3500 \nL 1159 2956 \nQ 1341 3275 1631 3429 \nQ 1922 3584 2338 3584 \nQ 2397 3584 2469 3576 \nQ 2541 3569 2628 3553 \nL 2631 2963 \nz\n\" transform=\"scale(0.015625)\"/>\n       <path id=\"DejaVuSans-71\" d=\"M 947 1747 \nQ 947 1113 1208 752 \nQ 1469 391 1925 391 \nQ 2381 391 2643 752 \nQ 2906 1113 2906 1747 \nQ 2906 2381 2643 2742 \nQ 2381 3103 1925 3103 \nQ 1469 3103 1208 2742 \nQ 947 2381 947 1747 \nz\nM 2906 525 \nQ 2725 213 2448 61 \nQ 2172 -91 1784 -91 \nQ 1150 -91 751 415 \nQ 353 922 353 1747 \nQ 353 2572 751 3078 \nQ 1150 3584 1784 3584 \nQ 2172 3584 2448 3432 \nQ 2725 3281 2906 2969 \nL 2906 3500 \nL 3481 3500 \nL 3481 -1331 \nL 2906 -1331 \nL 2906 525 \nz\n\" transform=\"scale(0.015625)\"/>\n       <path id=\"DejaVuSans-75\" d=\"M 544 1381 \nL 544 3500 \nL 1119 3500 \nL 1119 1403 \nQ 1119 906 1312 657 \nQ 1506 409 1894 409 \nQ 2359 409 2629 706 \nQ 2900 1003 2900 1516 \nL 2900 3500 \nL 3475 3500 \nL 3475 0 \nL 2900 0 \nL 2900 538 \nQ 2691 219 2414 64 \nQ 2138 -91 1772 -91 \nQ 1169 -91 856 284 \nQ 544 659 544 1381 \nz\nM 1991 3584 \nL 1991 3584 \nz\n\" transform=\"scale(0.015625)\"/>\n       <path id=\"DejaVuSans-63\" d=\"M 3122 3366 \nL 3122 2828 \nQ 2878 2963 2633 3030 \nQ 2388 3097 2138 3097 \nQ 1578 3097 1268 2742 \nQ 959 2388 959 1747 \nQ 959 1106 1268 751 \nQ 1578 397 2138 397 \nQ 2388 397 2633 464 \nQ 2878 531 3122 666 \nL 3122 134 \nQ 2881 22 2623 -34 \nQ 2366 -91 2075 -91 \nQ 1284 -91 818 406 \nQ 353 903 353 1747 \nQ 353 2603 823 3093 \nQ 1294 3584 2113 3584 \nQ 2378 3584 2631 3529 \nQ 2884 3475 3122 3366 \nz\n\" transform=\"scale(0.015625)\"/>\n       <path id=\"DejaVuSans-79\" d=\"M 2059 -325 \nQ 1816 -950 1584 -1140 \nQ 1353 -1331 966 -1331 \nL 506 -1331 \nL 506 -850 \nL 844 -850 \nQ 1081 -850 1212 -737 \nQ 1344 -625 1503 -206 \nL 1606 56 \nL 191 3500 \nL 800 3500 \nL 1894 763 \nL 2988 3500 \nL 3597 3500 \nL 2059 -325 \nz\n\" transform=\"scale(0.015625)\"/>\n       <path id=\"DejaVuSans-20\" transform=\"scale(0.015625)\"/>\n       <path id=\"DejaVuSans-28\" d=\"M 1984 4856 \nQ 1566 4138 1362 3434 \nQ 1159 2731 1159 2009 \nQ 1159 1288 1364 580 \nQ 1569 -128 1984 -844 \nL 1484 -844 \nQ 1016 -109 783 600 \nQ 550 1309 550 2009 \nQ 550 2706 781 3412 \nQ 1013 4119 1484 4856 \nL 1984 4856 \nz\n\" transform=\"scale(0.015625)\"/>\n       <path id=\"DejaVuSans-29\" d=\"M 513 4856 \nL 1013 4856 \nQ 1481 4119 1714 3412 \nQ 1947 2706 1947 2009 \nQ 1947 1309 1714 600 \nQ 1481 -109 1013 -844 \nL 513 -844 \nQ 928 -128 1133 580 \nQ 1338 1288 1338 2009 \nQ 1338 2731 1133 3434 \nQ 928 4138 513 4856 \nz\n\" transform=\"scale(0.015625)\"/>\n      </defs>\n      <use xlink:href=\"#DejaVuSans-66\"/>\n      <use xlink:href=\"#DejaVuSans-72\" x=\"35.205078\"/>\n      <use xlink:href=\"#DejaVuSans-65\" x=\"74.068359\"/>\n      <use xlink:href=\"#DejaVuSans-71\" x=\"135.591797\"/>\n      <use xlink:href=\"#DejaVuSans-75\" x=\"199.068359\"/>\n      <use xlink:href=\"#DejaVuSans-65\" x=\"262.447266\"/>\n      <use xlink:href=\"#DejaVuSans-6e\" x=\"323.970703\"/>\n      <use xlink:href=\"#DejaVuSans-63\" x=\"387.349609\"/>\n      <use xlink:href=\"#DejaVuSans-79\" x=\"442.330078\"/>\n      <use xlink:href=\"#DejaVuSans-3a\" x=\"494.259766\"/>\n      <use xlink:href=\"#DejaVuSans-20\" x=\"527.951172\"/>\n      <use xlink:href=\"#DejaVuSans-6e\" x=\"559.738281\"/>\n      <use xlink:href=\"#DejaVuSans-28\" x=\"623.117188\"/>\n      <use xlink:href=\"#DejaVuSans-78\" x=\"662.130859\"/>\n      <use xlink:href=\"#DejaVuSans-29\" x=\"721.310547\"/>\n     </g>\n    </g>\n   </g>\n   <g id=\"line2d_78\">\n    <path d=\"M -1 22.937391 \nL 54.355398 22.948175 \nL 68.955194 23.233932 \nL 77.495528 24.458034 \nL 83.554991 30.126092 \nL 88.255076 32.744485 \nL 92.095325 36.502574 \nL 95.342209 36.830949 \nL 98.154788 40.091237 \nL 102.854873 40.3137 \nL 104.862396 43.749961 \nL 106.695122 47.517487 \nL 108.381066 48.168938 \nL 111.395206 51.43591 \nL 112.754585 51.809238 \nL 114.031525 52.741704 \nL 115.235455 53.064758 \nL 116.374276 56.910265 \nL 117.45467 57.541843 \nL 118.482339 59.236831 \nL 119.462193 59.236831 \nL 120.398483 59.598035 \nL 121.294918 60.218404 \nL 122.154754 60.473311 \nL 122.980862 60.995394 \nL 123.775789 61.128568 \nL 125.280933 61.128568 \nL 126.685657 61.672409 \nL 127.354382 62.235006 \nL 128.002527 62.235006 \nL 128.631321 62.378741 \nL 129.241887 62.378741 \nL 129.835252 62.523752 \nL 130.412358 63.421982 \nL 130.974073 63.576615 \nL 131.521196 63.89035 \nL 132.054466 65.381982 \nL 133.082136 65.732828 \nL 133.57776 65.732828 \nL 134.06199 65.911122 \nL 134.535337 66.273664 \nL 136.32902 67.023852 \nL 137.171655 67.023852 \nL 137.580659 67.216916 \nL 137.981872 67.216916 \nL 138.375586 67.610036 \nL 139.141599 68.636395 \nL 139.514407 69.065728 \nL 139.88073 69.284707 \nL 140.5948 69.284707 \nL 141.954178 70.191258 \nL 142.602323 70.191258 \nL 142.919067 70.425992 \nL 143.231118 71.151165 \nL 143.538613 72.171104 \nL 144.435049 72.980215 \nL 144.725578 72.980215 \nL 145.012155 73.542812 \nL 145.57387 73.542812 \nL 145.849208 74.125507 \nL 146.120993 74.42485 \nL 146.389316 74.42485 \nL 147.681933 76.009951 \nL 148.89979 76.009951 \nL 149.135134 76.346328 \nL 149.367877 76.346328 \nL 149.598076 76.689788 \nL 149.825787 76.689788 \nL 150.051063 77.040634 \nL 150.712784 77.040634 \nL 150.928817 77.399192 \nL 151.142657 77.399192 \nL 151.563932 78.140852 \nL 151.976947 78.140852 \nL 152.180456 78.524722 \nL 152.382018 78.524722 \nL 152.779446 79.32067 \nL 153.361871 79.32067 \nL 153.741396 80.157455 \nL 153.928625 80.157455 \nL 154.114203 80.592513 \nL 154.840587 80.592513 \nL 155.018336 81.039492 \nL 155.885251 81.039492 \nL 156.054433 81.499064 \nL 156.717891 81.499064 \nL 156.880541 81.971958 \nL 157.675467 81.971958 \nL 157.830915 82.458971 \nL 158.13841 82.458971 \nL 158.290491 82.960971 \nL 158.888064 82.960971 \nL 159.034846 83.47891 \nL 159.325375 83.47891 \nL 159.469151 84.013834 \nL 159.753791 84.013834 \nL 159.894681 84.566894 \nL 160.034636 84.566894 \nL 160.173666 85.139364 \nL 160.855378 85.139364 \nL 160.989112 85.732655 \nL 161.515716 85.732655 \nL 161.645335 86.34834 \nL 162.406733 86.34834 \nL 162.531 86.988176 \nL 162.899459 86.988176 \nL 163.02086 87.654134 \nL 163.499587 87.654134 \nL 163.617587 88.34844 \nL 164.197873 88.34844 \nL 164.312036 89.073613 \nL 165.420874 89.073613 \nL 165.635805 89.832527 \nL 166.371248 89.832527 \nL 166.576743 90.628476 \nL 167.672468 90.628476 \nL 167.865709 91.46526 \nL 168.714 91.46526 \nL 168.897958 92.347298 \nL 169.170917 92.347298 \nL 169.350944 93.279764 \nL 169.969192 93.279764 \nL 170.142551 94.268777 \nL 171.480337 94.268777 \nL 171.641741 95.32164 \nL 172.430712 95.32164 \nL 172.58502 96.44717 \nL 173.487861 96.44717 \nL 173.634642 97.656146 \nL 175.252968 97.656146 \nL 175.387988 98.96194 \nL 176.373958 98.96194 \nL 176.502002 100.381419 \nL 178.334727 100.381419 \nL 178.45142 101.936282 \nL 180.448362 101.936282 \nL 180.606533 103.655104 \nL 182.417361 103.655104 \nL 182.561465 105.576583 \nL 185.254026 105.576583 \nL 185.380027 107.754976 \nL 188.524969 107.754976 \nL 188.668744 110.269746 \nL 191.668552 110.269746 \nL 191.792452 113.244088 \nL 195.750759 113.244088 \nL 195.878337 116.884388 \nL 200.720398 116.884388 \nL 200.841334 121.577552 \nL 207.21004 121.577552 \nL 207.328539 128.192194 \nL 216.278445 128.192194 \nL 216.394018 139.5 \nL 231.900852 139.5 \nL 231.900852 139.5 \n\" clip-path=\"url(#p53f08664ab)\" style=\"fill: none; stroke: #1f77b4; stroke-width: 1.5; stroke-linecap: square\"/>\n   </g>\n   <g id=\"patch_3\">\n    <path d=\"M 45.478125 145.8 \nL 45.478125 7.2 \n\" style=\"fill: none; stroke: #000000; stroke-width: 0.8; stroke-linejoin: miter; stroke-linecap: square\"/>\n   </g>\n   <g id=\"patch_4\">\n    <path d=\"M 240.778125 145.8 \nL 240.778125 7.2 \n\" style=\"fill: none; stroke: #000000; stroke-width: 0.8; stroke-linejoin: miter; stroke-linecap: square\"/>\n   </g>\n   <g id=\"patch_5\">\n    <path d=\"M 45.478125 145.8 \nL 240.778125 145.8 \n\" style=\"fill: none; stroke: #000000; stroke-width: 0.8; stroke-linejoin: miter; stroke-linecap: square\"/>\n   </g>\n   <g id=\"patch_6\">\n    <path d=\"M 45.478125 7.2 \nL 240.778125 7.2 \n\" style=\"fill: none; stroke: #000000; stroke-width: 0.8; stroke-linejoin: miter; stroke-linecap: square\"/>\n   </g>\n  </g>\n </g>\n <defs>\n  <clipPath id=\"p53f08664ab\">\n   <rect x=\"45.478125\" y=\"7.2\" width=\"195.3\" height=\"138.6\"/>\n  </clipPath>\n </defs>\n</svg>\n"
          },
          "metadata": {}
        }
      ]
    },
    {
      "cell_type": "markdown",
      "source": [
        "Words in corpus follow the Zipflaw: word frequency tends to follow a power-law distribution\n",
        "\n",
        "$\n",
        "n_i = \\frac{1}{i^{α}} ⇒ \\log n_i = -α \\log i + c\n",
        "$\n",
        "\n",
        "meaning that in the log-log space, it is a straight line."
      ],
      "metadata": {
        "id": "SFNWW6SZbqIb"
      }
    },
    {
      "cell_type": "code",
      "source": [
        "bigram_tokens = ['--'.join(pair) for pair in zip(words[:-1], words[1:])]\n",
        "bigram_vocab = Vocab(bigram_tokens)\n",
        "bigram_vocab.token_freqs[:10]\n",
        "\n",
        "trigram_tokens = ['--'.join(triple) for triple in zip(\n",
        "    words[:-2], words[1:-1], words[2:])]\n",
        "trigram_vocab = Vocab(trigram_tokens)\n",
        "trigram_vocab.token_freqs[:10]\n",
        "\n",
        "bigram_freqs = [freq for token, freq in bigram_vocab.token_freqs]\n",
        "trigram_freqs = [freq for token, freq in trigram_vocab.token_freqs]\n",
        "d2l.plot([freqs, bigram_freqs, trigram_freqs], xlabel='token: x',\n",
        "         ylabel='frequency: n(x)', xscale='log', yscale='log',\n",
        "         legend=['unigram', 'bigram', 'trigram'])"
      ],
      "metadata": {
        "colab": {
          "base_uri": "https://localhost:8080/",
          "height": 265
        },
        "id": "OoEODkNebmXH",
        "outputId": "e372346b-40c3-4c12-a3e2-11a90a2508cd"
      },
      "execution_count": 72,
      "outputs": [
        {
          "output_type": "display_data",
          "data": {
            "text/plain": [
              "<Figure size 350x250 with 1 Axes>"
            ],
            "image/svg+xml": "<?xml version=\"1.0\" encoding=\"utf-8\" standalone=\"no\"?>\n<!DOCTYPE svg PUBLIC \"-//W3C//DTD SVG 1.1//EN\"\n  \"http://www.w3.org/Graphics/SVG/1.1/DTD/svg11.dtd\">\n<svg xmlns:xlink=\"http://www.w3.org/1999/xlink\" width=\"247.978125pt\" height=\"183.35625pt\" viewBox=\"0 0 247.978125 183.35625\" xmlns=\"http://www.w3.org/2000/svg\" version=\"1.1\">\n <metadata>\n  <rdf:RDF xmlns:dc=\"http://purl.org/dc/elements/1.1/\" xmlns:cc=\"http://creativecommons.org/ns#\" xmlns:rdf=\"http://www.w3.org/1999/02/22-rdf-syntax-ns#\">\n   <cc:Work>\n    <dc:type rdf:resource=\"http://purl.org/dc/dcmitype/StillImage\"/>\n    <dc:date>2023-05-20T16:26:45.983195</dc:date>\n    <dc:format>image/svg+xml</dc:format>\n    <dc:creator>\n     <cc:Agent>\n      <dc:title>Matplotlib v3.7.1, https://matplotlib.org/</dc:title>\n     </cc:Agent>\n    </dc:creator>\n   </cc:Work>\n  </rdf:RDF>\n </metadata>\n <defs>\n  <style type=\"text/css\">*{stroke-linejoin: round; stroke-linecap: butt}</style>\n </defs>\n <g id=\"figure_1\">\n  <g id=\"patch_1\">\n   <path d=\"M 0 183.35625 \nL 247.978125 183.35625 \nL 247.978125 0 \nL 0 0 \nz\n\" style=\"fill: #ffffff\"/>\n  </g>\n  <g id=\"axes_1\">\n   <g id=\"patch_2\">\n    <path d=\"M 45.478125 145.8 \nL 240.778125 145.8 \nL 240.778125 7.2 \nL 45.478125 7.2 \nz\n\" style=\"fill: #ffffff\"/>\n   </g>\n   <g id=\"matplotlib.axis_1\">\n    <g id=\"xtick_1\">\n     <g id=\"line2d_1\">\n      <path d=\"M 54.355398 145.8 \nL 54.355398 7.2 \n\" clip-path=\"url(#p1cca911136)\" style=\"fill: none; stroke: #b0b0b0; stroke-width: 0.8; stroke-linecap: square\"/>\n     </g>\n     <g id=\"line2d_2\">\n      <defs>\n       <path id=\"mc9be9a0ec1\" d=\"M 0 0 \nL 0 3.5 \n\" style=\"stroke: #000000; stroke-width: 0.8\"/>\n      </defs>\n      <g>\n       <use xlink:href=\"#mc9be9a0ec1\" x=\"54.355398\" y=\"145.8\" style=\"stroke: #000000; stroke-width: 0.8\"/>\n      </g>\n     </g>\n     <g id=\"text_1\">\n      <!-- $\\mathdefault{10^{0}}$ -->\n      <g transform=\"translate(45.555398 160.398438) scale(0.1 -0.1)\">\n       <defs>\n        <path id=\"DejaVuSans-31\" d=\"M 794 531 \nL 1825 531 \nL 1825 4091 \nL 703 3866 \nL 703 4441 \nL 1819 4666 \nL 2450 4666 \nL 2450 531 \nL 3481 531 \nL 3481 0 \nL 794 0 \nL 794 531 \nz\n\" transform=\"scale(0.015625)\"/>\n        <path id=\"DejaVuSans-30\" d=\"M 2034 4250 \nQ 1547 4250 1301 3770 \nQ 1056 3291 1056 2328 \nQ 1056 1369 1301 889 \nQ 1547 409 2034 409 \nQ 2525 409 2770 889 \nQ 3016 1369 3016 2328 \nQ 3016 3291 2770 3770 \nQ 2525 4250 2034 4250 \nz\nM 2034 4750 \nQ 2819 4750 3233 4129 \nQ 3647 3509 3647 2328 \nQ 3647 1150 3233 529 \nQ 2819 -91 2034 -91 \nQ 1250 -91 836 529 \nQ 422 1150 422 2328 \nQ 422 3509 836 4129 \nQ 1250 4750 2034 4750 \nz\n\" transform=\"scale(0.015625)\"/>\n       </defs>\n       <use xlink:href=\"#DejaVuSans-31\" transform=\"translate(0 0.765625)\"/>\n       <use xlink:href=\"#DejaVuSans-30\" transform=\"translate(63.623047 0.765625)\"/>\n       <use xlink:href=\"#DejaVuSans-30\" transform=\"translate(128.203125 39.046875) scale(0.7)\"/>\n      </g>\n     </g>\n    </g>\n    <g id=\"xtick_2\">\n     <g id=\"line2d_3\">\n      <path d=\"M 94.026728 145.8 \nL 94.026728 7.2 \n\" clip-path=\"url(#p1cca911136)\" style=\"fill: none; stroke: #b0b0b0; stroke-width: 0.8; stroke-linecap: square\"/>\n     </g>\n     <g id=\"line2d_4\">\n      <g>\n       <use xlink:href=\"#mc9be9a0ec1\" x=\"94.026728\" y=\"145.8\" style=\"stroke: #000000; stroke-width: 0.8\"/>\n      </g>\n     </g>\n     <g id=\"text_2\">\n      <!-- $\\mathdefault{10^{1}}$ -->\n      <g transform=\"translate(85.226728 160.398438) scale(0.1 -0.1)\">\n       <use xlink:href=\"#DejaVuSans-31\" transform=\"translate(0 0.684375)\"/>\n       <use xlink:href=\"#DejaVuSans-30\" transform=\"translate(63.623047 0.684375)\"/>\n       <use xlink:href=\"#DejaVuSans-31\" transform=\"translate(128.203125 38.965625) scale(0.7)\"/>\n      </g>\n     </g>\n    </g>\n    <g id=\"xtick_3\">\n     <g id=\"line2d_5\">\n      <path d=\"M 133.698058 145.8 \nL 133.698058 7.2 \n\" clip-path=\"url(#p1cca911136)\" style=\"fill: none; stroke: #b0b0b0; stroke-width: 0.8; stroke-linecap: square\"/>\n     </g>\n     <g id=\"line2d_6\">\n      <g>\n       <use xlink:href=\"#mc9be9a0ec1\" x=\"133.698058\" y=\"145.8\" style=\"stroke: #000000; stroke-width: 0.8\"/>\n      </g>\n     </g>\n     <g id=\"text_3\">\n      <!-- $\\mathdefault{10^{2}}$ -->\n      <g transform=\"translate(124.898058 160.398438) scale(0.1 -0.1)\">\n       <defs>\n        <path id=\"DejaVuSans-32\" d=\"M 1228 531 \nL 3431 531 \nL 3431 0 \nL 469 0 \nL 469 531 \nQ 828 903 1448 1529 \nQ 2069 2156 2228 2338 \nQ 2531 2678 2651 2914 \nQ 2772 3150 2772 3378 \nQ 2772 3750 2511 3984 \nQ 2250 4219 1831 4219 \nQ 1534 4219 1204 4116 \nQ 875 4013 500 3803 \nL 500 4441 \nQ 881 4594 1212 4672 \nQ 1544 4750 1819 4750 \nQ 2544 4750 2975 4387 \nQ 3406 4025 3406 3419 \nQ 3406 3131 3298 2873 \nQ 3191 2616 2906 2266 \nQ 2828 2175 2409 1742 \nQ 1991 1309 1228 531 \nz\n\" transform=\"scale(0.015625)\"/>\n       </defs>\n       <use xlink:href=\"#DejaVuSans-31\" transform=\"translate(0 0.765625)\"/>\n       <use xlink:href=\"#DejaVuSans-30\" transform=\"translate(63.623047 0.765625)\"/>\n       <use xlink:href=\"#DejaVuSans-32\" transform=\"translate(128.203125 39.046875) scale(0.7)\"/>\n      </g>\n     </g>\n    </g>\n    <g id=\"xtick_4\">\n     <g id=\"line2d_7\">\n      <path d=\"M 173.369388 145.8 \nL 173.369388 7.2 \n\" clip-path=\"url(#p1cca911136)\" style=\"fill: none; stroke: #b0b0b0; stroke-width: 0.8; stroke-linecap: square\"/>\n     </g>\n     <g id=\"line2d_8\">\n      <g>\n       <use xlink:href=\"#mc9be9a0ec1\" x=\"173.369388\" y=\"145.8\" style=\"stroke: #000000; stroke-width: 0.8\"/>\n      </g>\n     </g>\n     <g id=\"text_4\">\n      <!-- $\\mathdefault{10^{3}}$ -->\n      <g transform=\"translate(164.569388 160.398438) scale(0.1 -0.1)\">\n       <defs>\n        <path id=\"DejaVuSans-33\" d=\"M 2597 2516 \nQ 3050 2419 3304 2112 \nQ 3559 1806 3559 1356 \nQ 3559 666 3084 287 \nQ 2609 -91 1734 -91 \nQ 1441 -91 1130 -33 \nQ 819 25 488 141 \nL 488 750 \nQ 750 597 1062 519 \nQ 1375 441 1716 441 \nQ 2309 441 2620 675 \nQ 2931 909 2931 1356 \nQ 2931 1769 2642 2001 \nQ 2353 2234 1838 2234 \nL 1294 2234 \nL 1294 2753 \nL 1863 2753 \nQ 2328 2753 2575 2939 \nQ 2822 3125 2822 3475 \nQ 2822 3834 2567 4026 \nQ 2313 4219 1838 4219 \nQ 1578 4219 1281 4162 \nQ 984 4106 628 3988 \nL 628 4550 \nQ 988 4650 1302 4700 \nQ 1616 4750 1894 4750 \nQ 2613 4750 3031 4423 \nQ 3450 4097 3450 3541 \nQ 3450 3153 3228 2886 \nQ 3006 2619 2597 2516 \nz\n\" transform=\"scale(0.015625)\"/>\n       </defs>\n       <use xlink:href=\"#DejaVuSans-31\" transform=\"translate(0 0.765625)\"/>\n       <use xlink:href=\"#DejaVuSans-30\" transform=\"translate(63.623047 0.765625)\"/>\n       <use xlink:href=\"#DejaVuSans-33\" transform=\"translate(128.203125 39.046875) scale(0.7)\"/>\n      </g>\n     </g>\n    </g>\n    <g id=\"xtick_5\">\n     <g id=\"line2d_9\">\n      <path d=\"M 213.040719 145.8 \nL 213.040719 7.2 \n\" clip-path=\"url(#p1cca911136)\" style=\"fill: none; stroke: #b0b0b0; stroke-width: 0.8; stroke-linecap: square\"/>\n     </g>\n     <g id=\"line2d_10\">\n      <g>\n       <use xlink:href=\"#mc9be9a0ec1\" x=\"213.040719\" y=\"145.8\" style=\"stroke: #000000; stroke-width: 0.8\"/>\n      </g>\n     </g>\n     <g id=\"text_5\">\n      <!-- $\\mathdefault{10^{4}}$ -->\n      <g transform=\"translate(204.240719 160.398438) scale(0.1 -0.1)\">\n       <defs>\n        <path id=\"DejaVuSans-34\" d=\"M 2419 4116 \nL 825 1625 \nL 2419 1625 \nL 2419 4116 \nz\nM 2253 4666 \nL 3047 4666 \nL 3047 1625 \nL 3713 1625 \nL 3713 1100 \nL 3047 1100 \nL 3047 0 \nL 2419 0 \nL 2419 1100 \nL 313 1100 \nL 313 1709 \nL 2253 4666 \nz\n\" transform=\"scale(0.015625)\"/>\n       </defs>\n       <use xlink:href=\"#DejaVuSans-31\" transform=\"translate(0 0.684375)\"/>\n       <use xlink:href=\"#DejaVuSans-30\" transform=\"translate(63.623047 0.684375)\"/>\n       <use xlink:href=\"#DejaVuSans-34\" transform=\"translate(128.203125 38.965625) scale(0.7)\"/>\n      </g>\n     </g>\n    </g>\n    <g id=\"xtick_6\">\n     <g id=\"line2d_11\">\n      <defs>\n       <path id=\"m59bb1e372f\" d=\"M 0 0 \nL 0 2 \n\" style=\"stroke: #000000; stroke-width: 0.6\"/>\n      </defs>\n      <g>\n       <use xlink:href=\"#m59bb1e372f\" x=\"45.554363\" y=\"145.8\" style=\"stroke: #000000; stroke-width: 0.6\"/>\n      </g>\n     </g>\n    </g>\n    <g id=\"xtick_7\">\n     <g id=\"line2d_12\">\n      <g>\n       <use xlink:href=\"#m59bb1e372f\" x=\"48.210231\" y=\"145.8\" style=\"stroke: #000000; stroke-width: 0.6\"/>\n      </g>\n     </g>\n    </g>\n    <g id=\"xtick_8\">\n     <g id=\"line2d_13\">\n      <g>\n       <use xlink:href=\"#m59bb1e372f\" x=\"50.510849\" y=\"145.8\" style=\"stroke: #000000; stroke-width: 0.6\"/>\n      </g>\n     </g>\n    </g>\n    <g id=\"xtick_9\">\n     <g id=\"line2d_14\">\n      <g>\n       <use xlink:href=\"#m59bb1e372f\" x=\"52.540137\" y=\"145.8\" style=\"stroke: #000000; stroke-width: 0.6\"/>\n      </g>\n     </g>\n    </g>\n    <g id=\"xtick_10\">\n     <g id=\"line2d_15\">\n      <g>\n       <use xlink:href=\"#m59bb1e372f\" x=\"66.297658\" y=\"145.8\" style=\"stroke: #000000; stroke-width: 0.6\"/>\n      </g>\n     </g>\n    </g>\n    <g id=\"xtick_11\">\n     <g id=\"line2d_16\">\n      <g>\n       <use xlink:href=\"#m59bb1e372f\" x=\"73.283433\" y=\"145.8\" style=\"stroke: #000000; stroke-width: 0.6\"/>\n      </g>\n     </g>\n    </g>\n    <g id=\"xtick_12\">\n     <g id=\"line2d_17\">\n      <g>\n       <use xlink:href=\"#m59bb1e372f\" x=\"78.239918\" y=\"145.8\" style=\"stroke: #000000; stroke-width: 0.6\"/>\n      </g>\n     </g>\n    </g>\n    <g id=\"xtick_13\">\n     <g id=\"line2d_18\">\n      <g>\n       <use xlink:href=\"#m59bb1e372f\" x=\"82.084468\" y=\"145.8\" style=\"stroke: #000000; stroke-width: 0.6\"/>\n      </g>\n     </g>\n    </g>\n    <g id=\"xtick_14\">\n     <g id=\"line2d_19\">\n      <g>\n       <use xlink:href=\"#m59bb1e372f\" x=\"85.225693\" y=\"145.8\" style=\"stroke: #000000; stroke-width: 0.6\"/>\n      </g>\n     </g>\n    </g>\n    <g id=\"xtick_15\">\n     <g id=\"line2d_20\">\n      <g>\n       <use xlink:href=\"#m59bb1e372f\" x=\"87.881561\" y=\"145.8\" style=\"stroke: #000000; stroke-width: 0.6\"/>\n      </g>\n     </g>\n    </g>\n    <g id=\"xtick_16\">\n     <g id=\"line2d_21\">\n      <g>\n       <use xlink:href=\"#m59bb1e372f\" x=\"90.182179\" y=\"145.8\" style=\"stroke: #000000; stroke-width: 0.6\"/>\n      </g>\n     </g>\n    </g>\n    <g id=\"xtick_17\">\n     <g id=\"line2d_22\">\n      <g>\n       <use xlink:href=\"#m59bb1e372f\" x=\"92.211467\" y=\"145.8\" style=\"stroke: #000000; stroke-width: 0.6\"/>\n      </g>\n     </g>\n    </g>\n    <g id=\"xtick_18\">\n     <g id=\"line2d_23\">\n      <g>\n       <use xlink:href=\"#m59bb1e372f\" x=\"105.968988\" y=\"145.8\" style=\"stroke: #000000; stroke-width: 0.6\"/>\n      </g>\n     </g>\n    </g>\n    <g id=\"xtick_19\">\n     <g id=\"line2d_24\">\n      <g>\n       <use xlink:href=\"#m59bb1e372f\" x=\"112.954763\" y=\"145.8\" style=\"stroke: #000000; stroke-width: 0.6\"/>\n      </g>\n     </g>\n    </g>\n    <g id=\"xtick_20\">\n     <g id=\"line2d_25\">\n      <g>\n       <use xlink:href=\"#m59bb1e372f\" x=\"117.911249\" y=\"145.8\" style=\"stroke: #000000; stroke-width: 0.6\"/>\n      </g>\n     </g>\n    </g>\n    <g id=\"xtick_21\">\n     <g id=\"line2d_26\">\n      <g>\n       <use xlink:href=\"#m59bb1e372f\" x=\"121.755798\" y=\"145.8\" style=\"stroke: #000000; stroke-width: 0.6\"/>\n      </g>\n     </g>\n    </g>\n    <g id=\"xtick_22\">\n     <g id=\"line2d_27\">\n      <g>\n       <use xlink:href=\"#m59bb1e372f\" x=\"124.897023\" y=\"145.8\" style=\"stroke: #000000; stroke-width: 0.6\"/>\n      </g>\n     </g>\n    </g>\n    <g id=\"xtick_23\">\n     <g id=\"line2d_28\">\n      <g>\n       <use xlink:href=\"#m59bb1e372f\" x=\"127.552891\" y=\"145.8\" style=\"stroke: #000000; stroke-width: 0.6\"/>\n      </g>\n     </g>\n    </g>\n    <g id=\"xtick_24\">\n     <g id=\"line2d_29\">\n      <g>\n       <use xlink:href=\"#m59bb1e372f\" x=\"129.853509\" y=\"145.8\" style=\"stroke: #000000; stroke-width: 0.6\"/>\n      </g>\n     </g>\n    </g>\n    <g id=\"xtick_25\">\n     <g id=\"line2d_30\">\n      <g>\n       <use xlink:href=\"#m59bb1e372f\" x=\"131.882798\" y=\"145.8\" style=\"stroke: #000000; stroke-width: 0.6\"/>\n      </g>\n     </g>\n    </g>\n    <g id=\"xtick_26\">\n     <g id=\"line2d_31\">\n      <g>\n       <use xlink:href=\"#m59bb1e372f\" x=\"145.640319\" y=\"145.8\" style=\"stroke: #000000; stroke-width: 0.6\"/>\n      </g>\n     </g>\n    </g>\n    <g id=\"xtick_27\">\n     <g id=\"line2d_32\">\n      <g>\n       <use xlink:href=\"#m59bb1e372f\" x=\"152.626093\" y=\"145.8\" style=\"stroke: #000000; stroke-width: 0.6\"/>\n      </g>\n     </g>\n    </g>\n    <g id=\"xtick_28\">\n     <g id=\"line2d_33\">\n      <g>\n       <use xlink:href=\"#m59bb1e372f\" x=\"157.582579\" y=\"145.8\" style=\"stroke: #000000; stroke-width: 0.6\"/>\n      </g>\n     </g>\n    </g>\n    <g id=\"xtick_29\">\n     <g id=\"line2d_34\">\n      <g>\n       <use xlink:href=\"#m59bb1e372f\" x=\"161.427128\" y=\"145.8\" style=\"stroke: #000000; stroke-width: 0.6\"/>\n      </g>\n     </g>\n    </g>\n    <g id=\"xtick_30\">\n     <g id=\"line2d_35\">\n      <g>\n       <use xlink:href=\"#m59bb1e372f\" x=\"164.568353\" y=\"145.8\" style=\"stroke: #000000; stroke-width: 0.6\"/>\n      </g>\n     </g>\n    </g>\n    <g id=\"xtick_31\">\n     <g id=\"line2d_36\">\n      <g>\n       <use xlink:href=\"#m59bb1e372f\" x=\"167.224222\" y=\"145.8\" style=\"stroke: #000000; stroke-width: 0.6\"/>\n      </g>\n     </g>\n    </g>\n    <g id=\"xtick_32\">\n     <g id=\"line2d_37\">\n      <g>\n       <use xlink:href=\"#m59bb1e372f\" x=\"169.524839\" y=\"145.8\" style=\"stroke: #000000; stroke-width: 0.6\"/>\n      </g>\n     </g>\n    </g>\n    <g id=\"xtick_33\">\n     <g id=\"line2d_38\">\n      <g>\n       <use xlink:href=\"#m59bb1e372f\" x=\"171.554128\" y=\"145.8\" style=\"stroke: #000000; stroke-width: 0.6\"/>\n      </g>\n     </g>\n    </g>\n    <g id=\"xtick_34\">\n     <g id=\"line2d_39\">\n      <g>\n       <use xlink:href=\"#m59bb1e372f\" x=\"185.311649\" y=\"145.8\" style=\"stroke: #000000; stroke-width: 0.6\"/>\n      </g>\n     </g>\n    </g>\n    <g id=\"xtick_35\">\n     <g id=\"line2d_40\">\n      <g>\n       <use xlink:href=\"#m59bb1e372f\" x=\"192.297423\" y=\"145.8\" style=\"stroke: #000000; stroke-width: 0.6\"/>\n      </g>\n     </g>\n    </g>\n    <g id=\"xtick_36\">\n     <g id=\"line2d_41\">\n      <g>\n       <use xlink:href=\"#m59bb1e372f\" x=\"197.253909\" y=\"145.8\" style=\"stroke: #000000; stroke-width: 0.6\"/>\n      </g>\n     </g>\n    </g>\n    <g id=\"xtick_37\">\n     <g id=\"line2d_42\">\n      <g>\n       <use xlink:href=\"#m59bb1e372f\" x=\"201.098458\" y=\"145.8\" style=\"stroke: #000000; stroke-width: 0.6\"/>\n      </g>\n     </g>\n    </g>\n    <g id=\"xtick_38\">\n     <g id=\"line2d_43\">\n      <g>\n       <use xlink:href=\"#m59bb1e372f\" x=\"204.239684\" y=\"145.8\" style=\"stroke: #000000; stroke-width: 0.6\"/>\n      </g>\n     </g>\n    </g>\n    <g id=\"xtick_39\">\n     <g id=\"line2d_44\">\n      <g>\n       <use xlink:href=\"#m59bb1e372f\" x=\"206.895552\" y=\"145.8\" style=\"stroke: #000000; stroke-width: 0.6\"/>\n      </g>\n     </g>\n    </g>\n    <g id=\"xtick_40\">\n     <g id=\"line2d_45\">\n      <g>\n       <use xlink:href=\"#m59bb1e372f\" x=\"209.196169\" y=\"145.8\" style=\"stroke: #000000; stroke-width: 0.6\"/>\n      </g>\n     </g>\n    </g>\n    <g id=\"xtick_41\">\n     <g id=\"line2d_46\">\n      <g>\n       <use xlink:href=\"#m59bb1e372f\" x=\"211.225458\" y=\"145.8\" style=\"stroke: #000000; stroke-width: 0.6\"/>\n      </g>\n     </g>\n    </g>\n    <g id=\"xtick_42\">\n     <g id=\"line2d_47\">\n      <g>\n       <use xlink:href=\"#m59bb1e372f\" x=\"224.982979\" y=\"145.8\" style=\"stroke: #000000; stroke-width: 0.6\"/>\n      </g>\n     </g>\n    </g>\n    <g id=\"xtick_43\">\n     <g id=\"line2d_48\">\n      <g>\n       <use xlink:href=\"#m59bb1e372f\" x=\"231.968753\" y=\"145.8\" style=\"stroke: #000000; stroke-width: 0.6\"/>\n      </g>\n     </g>\n    </g>\n    <g id=\"xtick_44\">\n     <g id=\"line2d_49\">\n      <g>\n       <use xlink:href=\"#m59bb1e372f\" x=\"236.925239\" y=\"145.8\" style=\"stroke: #000000; stroke-width: 0.6\"/>\n      </g>\n     </g>\n    </g>\n    <g id=\"xtick_45\">\n     <g id=\"line2d_50\">\n      <g>\n       <use xlink:href=\"#m59bb1e372f\" x=\"240.769788\" y=\"145.8\" style=\"stroke: #000000; stroke-width: 0.6\"/>\n      </g>\n     </g>\n    </g>\n    <g id=\"text_6\">\n     <!-- token: x -->\n     <g transform=\"translate(122.916406 174.076563) scale(0.1 -0.1)\">\n      <defs>\n       <path id=\"DejaVuSans-74\" d=\"M 1172 4494 \nL 1172 3500 \nL 2356 3500 \nL 2356 3053 \nL 1172 3053 \nL 1172 1153 \nQ 1172 725 1289 603 \nQ 1406 481 1766 481 \nL 2356 481 \nL 2356 0 \nL 1766 0 \nQ 1100 0 847 248 \nQ 594 497 594 1153 \nL 594 3053 \nL 172 3053 \nL 172 3500 \nL 594 3500 \nL 594 4494 \nL 1172 4494 \nz\n\" transform=\"scale(0.015625)\"/>\n       <path id=\"DejaVuSans-6f\" d=\"M 1959 3097 \nQ 1497 3097 1228 2736 \nQ 959 2375 959 1747 \nQ 959 1119 1226 758 \nQ 1494 397 1959 397 \nQ 2419 397 2687 759 \nQ 2956 1122 2956 1747 \nQ 2956 2369 2687 2733 \nQ 2419 3097 1959 3097 \nz\nM 1959 3584 \nQ 2709 3584 3137 3096 \nQ 3566 2609 3566 1747 \nQ 3566 888 3137 398 \nQ 2709 -91 1959 -91 \nQ 1206 -91 779 398 \nQ 353 888 353 1747 \nQ 353 2609 779 3096 \nQ 1206 3584 1959 3584 \nz\n\" transform=\"scale(0.015625)\"/>\n       <path id=\"DejaVuSans-6b\" d=\"M 581 4863 \nL 1159 4863 \nL 1159 1991 \nL 2875 3500 \nL 3609 3500 \nL 1753 1863 \nL 3688 0 \nL 2938 0 \nL 1159 1709 \nL 1159 0 \nL 581 0 \nL 581 4863 \nz\n\" transform=\"scale(0.015625)\"/>\n       <path id=\"DejaVuSans-65\" d=\"M 3597 1894 \nL 3597 1613 \nL 953 1613 \nQ 991 1019 1311 708 \nQ 1631 397 2203 397 \nQ 2534 397 2845 478 \nQ 3156 559 3463 722 \nL 3463 178 \nQ 3153 47 2828 -22 \nQ 2503 -91 2169 -91 \nQ 1331 -91 842 396 \nQ 353 884 353 1716 \nQ 353 2575 817 3079 \nQ 1281 3584 2069 3584 \nQ 2775 3584 3186 3129 \nQ 3597 2675 3597 1894 \nz\nM 3022 2063 \nQ 3016 2534 2758 2815 \nQ 2500 3097 2075 3097 \nQ 1594 3097 1305 2825 \nQ 1016 2553 972 2059 \nL 3022 2063 \nz\n\" transform=\"scale(0.015625)\"/>\n       <path id=\"DejaVuSans-6e\" d=\"M 3513 2113 \nL 3513 0 \nL 2938 0 \nL 2938 2094 \nQ 2938 2591 2744 2837 \nQ 2550 3084 2163 3084 \nQ 1697 3084 1428 2787 \nQ 1159 2491 1159 1978 \nL 1159 0 \nL 581 0 \nL 581 3500 \nL 1159 3500 \nL 1159 2956 \nQ 1366 3272 1645 3428 \nQ 1925 3584 2291 3584 \nQ 2894 3584 3203 3211 \nQ 3513 2838 3513 2113 \nz\n\" transform=\"scale(0.015625)\"/>\n       <path id=\"DejaVuSans-3a\" d=\"M 750 794 \nL 1409 794 \nL 1409 0 \nL 750 0 \nL 750 794 \nz\nM 750 3309 \nL 1409 3309 \nL 1409 2516 \nL 750 2516 \nL 750 3309 \nz\n\" transform=\"scale(0.015625)\"/>\n       <path id=\"DejaVuSans-20\" transform=\"scale(0.015625)\"/>\n       <path id=\"DejaVuSans-78\" d=\"M 3513 3500 \nL 2247 1797 \nL 3578 0 \nL 2900 0 \nL 1881 1375 \nL 863 0 \nL 184 0 \nL 1544 1831 \nL 300 3500 \nL 978 3500 \nL 1906 2253 \nL 2834 3500 \nL 3513 3500 \nz\n\" transform=\"scale(0.015625)\"/>\n      </defs>\n      <use xlink:href=\"#DejaVuSans-74\"/>\n      <use xlink:href=\"#DejaVuSans-6f\" x=\"39.208984\"/>\n      <use xlink:href=\"#DejaVuSans-6b\" x=\"100.390625\"/>\n      <use xlink:href=\"#DejaVuSans-65\" x=\"154.675781\"/>\n      <use xlink:href=\"#DejaVuSans-6e\" x=\"216.199219\"/>\n      <use xlink:href=\"#DejaVuSans-3a\" x=\"279.578125\"/>\n      <use xlink:href=\"#DejaVuSans-20\" x=\"313.269531\"/>\n      <use xlink:href=\"#DejaVuSans-78\" x=\"345.056641\"/>\n     </g>\n    </g>\n   </g>\n   <g id=\"matplotlib.axis_2\">\n    <g id=\"ytick_1\">\n     <g id=\"line2d_51\">\n      <path d=\"M 45.478125 139.5 \nL 240.778125 139.5 \n\" clip-path=\"url(#p1cca911136)\" style=\"fill: none; stroke: #b0b0b0; stroke-width: 0.8; stroke-linecap: square\"/>\n     </g>\n     <g id=\"line2d_52\">\n      <defs>\n       <path id=\"m5e09f92012\" d=\"M 0 0 \nL -3.5 0 \n\" style=\"stroke: #000000; stroke-width: 0.8\"/>\n      </defs>\n      <g>\n       <use xlink:href=\"#m5e09f92012\" x=\"45.478125\" y=\"139.5\" style=\"stroke: #000000; stroke-width: 0.8\"/>\n      </g>\n     </g>\n     <g id=\"text_7\">\n      <!-- $\\mathdefault{10^{0}}$ -->\n      <g transform=\"translate(20.878125 143.299219) scale(0.1 -0.1)\">\n       <use xlink:href=\"#DejaVuSans-31\" transform=\"translate(0 0.765625)\"/>\n       <use xlink:href=\"#DejaVuSans-30\" transform=\"translate(63.623047 0.765625)\"/>\n       <use xlink:href=\"#DejaVuSans-30\" transform=\"translate(128.203125 39.046875) scale(0.7)\"/>\n      </g>\n     </g>\n    </g>\n    <g id=\"ytick_2\">\n     <g id=\"line2d_53\">\n      <path d=\"M 45.478125 101.936282 \nL 240.778125 101.936282 \n\" clip-path=\"url(#p1cca911136)\" style=\"fill: none; stroke: #b0b0b0; stroke-width: 0.8; stroke-linecap: square\"/>\n     </g>\n     <g id=\"line2d_54\">\n      <g>\n       <use xlink:href=\"#m5e09f92012\" x=\"45.478125\" y=\"101.936282\" style=\"stroke: #000000; stroke-width: 0.8\"/>\n      </g>\n     </g>\n     <g id=\"text_8\">\n      <!-- $\\mathdefault{10^{1}}$ -->\n      <g transform=\"translate(20.878125 105.735501) scale(0.1 -0.1)\">\n       <use xlink:href=\"#DejaVuSans-31\" transform=\"translate(0 0.684375)\"/>\n       <use xlink:href=\"#DejaVuSans-30\" transform=\"translate(63.623047 0.684375)\"/>\n       <use xlink:href=\"#DejaVuSans-31\" transform=\"translate(128.203125 38.965625) scale(0.7)\"/>\n      </g>\n     </g>\n    </g>\n    <g id=\"ytick_3\">\n     <g id=\"line2d_55\">\n      <path d=\"M 45.478125 64.372564 \nL 240.778125 64.372564 \n\" clip-path=\"url(#p1cca911136)\" style=\"fill: none; stroke: #b0b0b0; stroke-width: 0.8; stroke-linecap: square\"/>\n     </g>\n     <g id=\"line2d_56\">\n      <g>\n       <use xlink:href=\"#m5e09f92012\" x=\"45.478125\" y=\"64.372564\" style=\"stroke: #000000; stroke-width: 0.8\"/>\n      </g>\n     </g>\n     <g id=\"text_9\">\n      <!-- $\\mathdefault{10^{2}}$ -->\n      <g transform=\"translate(20.878125 68.171783) scale(0.1 -0.1)\">\n       <use xlink:href=\"#DejaVuSans-31\" transform=\"translate(0 0.765625)\"/>\n       <use xlink:href=\"#DejaVuSans-30\" transform=\"translate(63.623047 0.765625)\"/>\n       <use xlink:href=\"#DejaVuSans-32\" transform=\"translate(128.203125 39.046875) scale(0.7)\"/>\n      </g>\n     </g>\n    </g>\n    <g id=\"ytick_4\">\n     <g id=\"line2d_57\">\n      <path d=\"M 45.478125 26.808846 \nL 240.778125 26.808846 \n\" clip-path=\"url(#p1cca911136)\" style=\"fill: none; stroke: #b0b0b0; stroke-width: 0.8; stroke-linecap: square\"/>\n     </g>\n     <g id=\"line2d_58\">\n      <g>\n       <use xlink:href=\"#m5e09f92012\" x=\"45.478125\" y=\"26.808846\" style=\"stroke: #000000; stroke-width: 0.8\"/>\n      </g>\n     </g>\n     <g id=\"text_10\">\n      <!-- $\\mathdefault{10^{3}}$ -->\n      <g transform=\"translate(20.878125 30.608065) scale(0.1 -0.1)\">\n       <use xlink:href=\"#DejaVuSans-31\" transform=\"translate(0 0.765625)\"/>\n       <use xlink:href=\"#DejaVuSans-30\" transform=\"translate(63.623047 0.765625)\"/>\n       <use xlink:href=\"#DejaVuSans-33\" transform=\"translate(128.203125 39.046875) scale(0.7)\"/>\n      </g>\n     </g>\n    </g>\n    <g id=\"ytick_5\">\n     <g id=\"line2d_59\">\n      <defs>\n       <path id=\"mba467c5b41\" d=\"M 0 0 \nL -2 0 \n\" style=\"stroke: #000000; stroke-width: 0.6\"/>\n      </defs>\n      <g>\n       <use xlink:href=\"#mba467c5b41\" x=\"45.478125\" y=\"145.318694\" style=\"stroke: #000000; stroke-width: 0.6\"/>\n      </g>\n     </g>\n    </g>\n    <g id=\"ytick_6\">\n     <g id=\"line2d_60\">\n      <g>\n       <use xlink:href=\"#mba467c5b41\" x=\"45.478125\" y=\"143.1403\" style=\"stroke: #000000; stroke-width: 0.6\"/>\n      </g>\n     </g>\n    </g>\n    <g id=\"ytick_7\">\n     <g id=\"line2d_61\">\n      <g>\n       <use xlink:href=\"#mba467c5b41\" x=\"45.478125\" y=\"141.218821\" style=\"stroke: #000000; stroke-width: 0.6\"/>\n      </g>\n     </g>\n    </g>\n    <g id=\"ytick_8\">\n     <g id=\"line2d_62\">\n      <g>\n       <use xlink:href=\"#mba467c5b41\" x=\"45.478125\" y=\"128.192194\" style=\"stroke: #000000; stroke-width: 0.6\"/>\n      </g>\n     </g>\n    </g>\n    <g id=\"ytick_9\">\n     <g id=\"line2d_63\">\n      <g>\n       <use xlink:href=\"#mba467c5b41\" x=\"45.478125\" y=\"121.577552\" style=\"stroke: #000000; stroke-width: 0.6\"/>\n      </g>\n     </g>\n    </g>\n    <g id=\"ytick_10\">\n     <g id=\"line2d_64\">\n      <g>\n       <use xlink:href=\"#mba467c5b41\" x=\"45.478125\" y=\"116.884388\" style=\"stroke: #000000; stroke-width: 0.6\"/>\n      </g>\n     </g>\n    </g>\n    <g id=\"ytick_11\">\n     <g id=\"line2d_65\">\n      <g>\n       <use xlink:href=\"#mba467c5b41\" x=\"45.478125\" y=\"113.244088\" style=\"stroke: #000000; stroke-width: 0.6\"/>\n      </g>\n     </g>\n    </g>\n    <g id=\"ytick_12\">\n     <g id=\"line2d_66\">\n      <g>\n       <use xlink:href=\"#mba467c5b41\" x=\"45.478125\" y=\"110.269746\" style=\"stroke: #000000; stroke-width: 0.6\"/>\n      </g>\n     </g>\n    </g>\n    <g id=\"ytick_13\">\n     <g id=\"line2d_67\">\n      <g>\n       <use xlink:href=\"#mba467c5b41\" x=\"45.478125\" y=\"107.754976\" style=\"stroke: #000000; stroke-width: 0.6\"/>\n      </g>\n     </g>\n    </g>\n    <g id=\"ytick_14\">\n     <g id=\"line2d_68\">\n      <g>\n       <use xlink:href=\"#mba467c5b41\" x=\"45.478125\" y=\"105.576583\" style=\"stroke: #000000; stroke-width: 0.6\"/>\n      </g>\n     </g>\n    </g>\n    <g id=\"ytick_15\">\n     <g id=\"line2d_69\">\n      <g>\n       <use xlink:href=\"#mba467c5b41\" x=\"45.478125\" y=\"103.655104\" style=\"stroke: #000000; stroke-width: 0.6\"/>\n      </g>\n     </g>\n    </g>\n    <g id=\"ytick_16\">\n     <g id=\"line2d_70\">\n      <g>\n       <use xlink:href=\"#mba467c5b41\" x=\"45.478125\" y=\"90.628476\" style=\"stroke: #000000; stroke-width: 0.6\"/>\n      </g>\n     </g>\n    </g>\n    <g id=\"ytick_17\">\n     <g id=\"line2d_71\">\n      <g>\n       <use xlink:href=\"#mba467c5b41\" x=\"45.478125\" y=\"84.013834\" style=\"stroke: #000000; stroke-width: 0.6\"/>\n      </g>\n     </g>\n    </g>\n    <g id=\"ytick_18\">\n     <g id=\"line2d_72\">\n      <g>\n       <use xlink:href=\"#mba467c5b41\" x=\"45.478125\" y=\"79.32067\" style=\"stroke: #000000; stroke-width: 0.6\"/>\n      </g>\n     </g>\n    </g>\n    <g id=\"ytick_19\">\n     <g id=\"line2d_73\">\n      <g>\n       <use xlink:href=\"#mba467c5b41\" x=\"45.478125\" y=\"75.68037\" style=\"stroke: #000000; stroke-width: 0.6\"/>\n      </g>\n     </g>\n    </g>\n    <g id=\"ytick_20\">\n     <g id=\"line2d_74\">\n      <g>\n       <use xlink:href=\"#mba467c5b41\" x=\"45.478125\" y=\"72.706028\" style=\"stroke: #000000; stroke-width: 0.6\"/>\n      </g>\n     </g>\n    </g>\n    <g id=\"ytick_21\">\n     <g id=\"line2d_75\">\n      <g>\n       <use xlink:href=\"#mba467c5b41\" x=\"45.478125\" y=\"70.191258\" style=\"stroke: #000000; stroke-width: 0.6\"/>\n      </g>\n     </g>\n    </g>\n    <g id=\"ytick_22\">\n     <g id=\"line2d_76\">\n      <g>\n       <use xlink:href=\"#mba467c5b41\" x=\"45.478125\" y=\"68.012865\" style=\"stroke: #000000; stroke-width: 0.6\"/>\n      </g>\n     </g>\n    </g>\n    <g id=\"ytick_23\">\n     <g id=\"line2d_77\">\n      <g>\n       <use xlink:href=\"#mba467c5b41\" x=\"45.478125\" y=\"66.091386\" style=\"stroke: #000000; stroke-width: 0.6\"/>\n      </g>\n     </g>\n    </g>\n    <g id=\"ytick_24\">\n     <g id=\"line2d_78\">\n      <g>\n       <use xlink:href=\"#mba467c5b41\" x=\"45.478125\" y=\"53.064758\" style=\"stroke: #000000; stroke-width: 0.6\"/>\n      </g>\n     </g>\n    </g>\n    <g id=\"ytick_25\">\n     <g id=\"line2d_79\">\n      <g>\n       <use xlink:href=\"#mba467c5b41\" x=\"45.478125\" y=\"46.450116\" style=\"stroke: #000000; stroke-width: 0.6\"/>\n      </g>\n     </g>\n    </g>\n    <g id=\"ytick_26\">\n     <g id=\"line2d_80\">\n      <g>\n       <use xlink:href=\"#mba467c5b41\" x=\"45.478125\" y=\"41.756953\" style=\"stroke: #000000; stroke-width: 0.6\"/>\n      </g>\n     </g>\n    </g>\n    <g id=\"ytick_27\">\n     <g id=\"line2d_81\">\n      <g>\n       <use xlink:href=\"#mba467c5b41\" x=\"45.478125\" y=\"38.116652\" style=\"stroke: #000000; stroke-width: 0.6\"/>\n      </g>\n     </g>\n    </g>\n    <g id=\"ytick_28\">\n     <g id=\"line2d_82\">\n      <g>\n       <use xlink:href=\"#mba467c5b41\" x=\"45.478125\" y=\"35.14231\" style=\"stroke: #000000; stroke-width: 0.6\"/>\n      </g>\n     </g>\n    </g>\n    <g id=\"ytick_29\">\n     <g id=\"line2d_83\">\n      <g>\n       <use xlink:href=\"#mba467c5b41\" x=\"45.478125\" y=\"32.62754\" style=\"stroke: #000000; stroke-width: 0.6\"/>\n      </g>\n     </g>\n    </g>\n    <g id=\"ytick_30\">\n     <g id=\"line2d_84\">\n      <g>\n       <use xlink:href=\"#mba467c5b41\" x=\"45.478125\" y=\"30.449147\" style=\"stroke: #000000; stroke-width: 0.6\"/>\n      </g>\n     </g>\n    </g>\n    <g id=\"ytick_31\">\n     <g id=\"line2d_85\">\n      <g>\n       <use xlink:href=\"#mba467c5b41\" x=\"45.478125\" y=\"28.527668\" style=\"stroke: #000000; stroke-width: 0.6\"/>\n      </g>\n     </g>\n    </g>\n    <g id=\"ytick_32\">\n     <g id=\"line2d_86\">\n      <g>\n       <use xlink:href=\"#mba467c5b41\" x=\"45.478125\" y=\"15.501041\" style=\"stroke: #000000; stroke-width: 0.6\"/>\n      </g>\n     </g>\n    </g>\n    <g id=\"ytick_33\">\n     <g id=\"line2d_87\">\n      <g>\n       <use xlink:href=\"#mba467c5b41\" x=\"45.478125\" y=\"8.886398\" style=\"stroke: #000000; stroke-width: 0.6\"/>\n      </g>\n     </g>\n    </g>\n    <g id=\"text_11\">\n     <!-- frequency: n(x) -->\n     <g transform=\"translate(14.798438 114.517188) rotate(-90) scale(0.1 -0.1)\">\n      <defs>\n       <path id=\"DejaVuSans-66\" d=\"M 2375 4863 \nL 2375 4384 \nL 1825 4384 \nQ 1516 4384 1395 4259 \nQ 1275 4134 1275 3809 \nL 1275 3500 \nL 2222 3500 \nL 2222 3053 \nL 1275 3053 \nL 1275 0 \nL 697 0 \nL 697 3053 \nL 147 3053 \nL 147 3500 \nL 697 3500 \nL 697 3744 \nQ 697 4328 969 4595 \nQ 1241 4863 1831 4863 \nL 2375 4863 \nz\n\" transform=\"scale(0.015625)\"/>\n       <path id=\"DejaVuSans-72\" d=\"M 2631 2963 \nQ 2534 3019 2420 3045 \nQ 2306 3072 2169 3072 \nQ 1681 3072 1420 2755 \nQ 1159 2438 1159 1844 \nL 1159 0 \nL 581 0 \nL 581 3500 \nL 1159 3500 \nL 1159 2956 \nQ 1341 3275 1631 3429 \nQ 1922 3584 2338 3584 \nQ 2397 3584 2469 3576 \nQ 2541 3569 2628 3553 \nL 2631 2963 \nz\n\" transform=\"scale(0.015625)\"/>\n       <path id=\"DejaVuSans-71\" d=\"M 947 1747 \nQ 947 1113 1208 752 \nQ 1469 391 1925 391 \nQ 2381 391 2643 752 \nQ 2906 1113 2906 1747 \nQ 2906 2381 2643 2742 \nQ 2381 3103 1925 3103 \nQ 1469 3103 1208 2742 \nQ 947 2381 947 1747 \nz\nM 2906 525 \nQ 2725 213 2448 61 \nQ 2172 -91 1784 -91 \nQ 1150 -91 751 415 \nQ 353 922 353 1747 \nQ 353 2572 751 3078 \nQ 1150 3584 1784 3584 \nQ 2172 3584 2448 3432 \nQ 2725 3281 2906 2969 \nL 2906 3500 \nL 3481 3500 \nL 3481 -1331 \nL 2906 -1331 \nL 2906 525 \nz\n\" transform=\"scale(0.015625)\"/>\n       <path id=\"DejaVuSans-75\" d=\"M 544 1381 \nL 544 3500 \nL 1119 3500 \nL 1119 1403 \nQ 1119 906 1312 657 \nQ 1506 409 1894 409 \nQ 2359 409 2629 706 \nQ 2900 1003 2900 1516 \nL 2900 3500 \nL 3475 3500 \nL 3475 0 \nL 2900 0 \nL 2900 538 \nQ 2691 219 2414 64 \nQ 2138 -91 1772 -91 \nQ 1169 -91 856 284 \nQ 544 659 544 1381 \nz\nM 1991 3584 \nL 1991 3584 \nz\n\" transform=\"scale(0.015625)\"/>\n       <path id=\"DejaVuSans-63\" d=\"M 3122 3366 \nL 3122 2828 \nQ 2878 2963 2633 3030 \nQ 2388 3097 2138 3097 \nQ 1578 3097 1268 2742 \nQ 959 2388 959 1747 \nQ 959 1106 1268 751 \nQ 1578 397 2138 397 \nQ 2388 397 2633 464 \nQ 2878 531 3122 666 \nL 3122 134 \nQ 2881 22 2623 -34 \nQ 2366 -91 2075 -91 \nQ 1284 -91 818 406 \nQ 353 903 353 1747 \nQ 353 2603 823 3093 \nQ 1294 3584 2113 3584 \nQ 2378 3584 2631 3529 \nQ 2884 3475 3122 3366 \nz\n\" transform=\"scale(0.015625)\"/>\n       <path id=\"DejaVuSans-79\" d=\"M 2059 -325 \nQ 1816 -950 1584 -1140 \nQ 1353 -1331 966 -1331 \nL 506 -1331 \nL 506 -850 \nL 844 -850 \nQ 1081 -850 1212 -737 \nQ 1344 -625 1503 -206 \nL 1606 56 \nL 191 3500 \nL 800 3500 \nL 1894 763 \nL 2988 3500 \nL 3597 3500 \nL 2059 -325 \nz\n\" transform=\"scale(0.015625)\"/>\n       <path id=\"DejaVuSans-28\" d=\"M 1984 4856 \nQ 1566 4138 1362 3434 \nQ 1159 2731 1159 2009 \nQ 1159 1288 1364 580 \nQ 1569 -128 1984 -844 \nL 1484 -844 \nQ 1016 -109 783 600 \nQ 550 1309 550 2009 \nQ 550 2706 781 3412 \nQ 1013 4119 1484 4856 \nL 1984 4856 \nz\n\" transform=\"scale(0.015625)\"/>\n       <path id=\"DejaVuSans-29\" d=\"M 513 4856 \nL 1013 4856 \nQ 1481 4119 1714 3412 \nQ 1947 2706 1947 2009 \nQ 1947 1309 1714 600 \nQ 1481 -109 1013 -844 \nL 513 -844 \nQ 928 -128 1133 580 \nQ 1338 1288 1338 2009 \nQ 1338 2731 1133 3434 \nQ 928 4138 513 4856 \nz\n\" transform=\"scale(0.015625)\"/>\n      </defs>\n      <use xlink:href=\"#DejaVuSans-66\"/>\n      <use xlink:href=\"#DejaVuSans-72\" x=\"35.205078\"/>\n      <use xlink:href=\"#DejaVuSans-65\" x=\"74.068359\"/>\n      <use xlink:href=\"#DejaVuSans-71\" x=\"135.591797\"/>\n      <use xlink:href=\"#DejaVuSans-75\" x=\"199.068359\"/>\n      <use xlink:href=\"#DejaVuSans-65\" x=\"262.447266\"/>\n      <use xlink:href=\"#DejaVuSans-6e\" x=\"323.970703\"/>\n      <use xlink:href=\"#DejaVuSans-63\" x=\"387.349609\"/>\n      <use xlink:href=\"#DejaVuSans-79\" x=\"442.330078\"/>\n      <use xlink:href=\"#DejaVuSans-3a\" x=\"494.259766\"/>\n      <use xlink:href=\"#DejaVuSans-20\" x=\"527.951172\"/>\n      <use xlink:href=\"#DejaVuSans-6e\" x=\"559.738281\"/>\n      <use xlink:href=\"#DejaVuSans-28\" x=\"623.117188\"/>\n      <use xlink:href=\"#DejaVuSans-78\" x=\"662.130859\"/>\n      <use xlink:href=\"#DejaVuSans-29\" x=\"721.310547\"/>\n     </g>\n    </g>\n   </g>\n   <g id=\"line2d_88\">\n    <path d=\"M -1 22.934991 \nL 54.355398 22.948175 \nL 66.297658 23.233932 \nL 73.283433 24.458034 \nL 78.239918 30.126092 \nL 82.084468 32.744485 \nL 85.225693 36.502574 \nL 87.881561 36.830949 \nL 90.182179 40.091237 \nL 94.026728 40.3137 \nL 95.668831 43.749961 \nL 97.167953 47.517487 \nL 98.547012 48.168938 \nL 101.012502 51.43591 \nL 102.124439 51.809238 \nL 103.168943 52.741704 \nL 104.153728 53.064758 \nL 105.085254 56.910265 \nL 105.968988 57.541843 \nL 106.809596 59.236831 \nL 107.611091 59.236831 \nL 108.376952 59.598035 \nL 109.110214 60.218404 \nL 109.813537 60.473311 \nL 110.489273 60.995394 \nL 111.139502 61.128568 \nL 112.370672 61.128568 \nL 113.5197 61.672409 \nL 114.0667 62.235006 \nL 114.596866 62.235006 \nL 115.111204 62.378741 \nL 115.610631 62.378741 \nL 116.095988 62.523752 \nL 116.568046 63.421982 \nL 117.027514 63.576615 \nL 117.475047 63.89035 \nL 117.911249 65.381982 \nL 118.751856 65.732828 \nL 119.157264 65.732828 \nL 119.553352 65.911122 \nL 119.940537 66.273664 \nL 121.407725 67.023852 \nL 122.096978 67.023852 \nL 122.431533 67.216916 \nL 122.759715 67.216916 \nL 123.081763 67.610036 \nL 123.708342 68.636395 \nL 124.013289 69.065728 \nL 124.312932 69.284707 \nL 124.897023 69.284707 \nL 126.00896 70.191258 \nL 126.539126 70.191258 \nL 126.798214 70.425992 \nL 127.552891 72.436374 \nL 128.038249 72.980215 \nL 128.275894 72.980215 \nL 128.510307 73.542812 \nL 128.969775 73.542812 \nL 129.417308 74.42485 \nL 129.636789 74.42485 \nL 130.898013 76.009951 \nL 131.690292 76.009951 \nL 131.882798 76.346328 \nL 132.073176 76.346328 \nL 132.261473 76.689788 \nL 132.447735 76.689788 \nL 132.632004 77.040634 \nL 133.173275 77.040634 \nL 133.349985 77.399192 \nL 133.524901 77.399192 \nL 133.869493 78.140852 \nL 134.207328 78.140852 \nL 134.373793 78.524722 \nL 134.538666 78.524722 \nL 134.863752 79.32067 \nL 135.340161 79.32067 \nL 135.650603 80.157455 \nL 135.803751 80.157455 \nL 135.955549 80.592513 \nL 136.549713 80.592513 \nL 136.695107 81.039492 \nL 137.404221 81.039492 \nL 137.542607 81.499064 \nL 138.085299 81.499064 \nL 138.218343 81.971958 \nL 138.868572 81.971958 \nL 138.995724 82.458971 \nL 139.247248 82.458971 \nL 139.371646 82.960971 \nL 139.860445 82.960971 \nL 139.980509 83.47891 \nL 140.218155 83.47891 \nL 140.335759 84.013834 \nL 140.568588 84.013834 \nL 140.683833 84.566894 \nL 140.798312 84.566894 \nL 141.025013 85.139364 \nL 141.469658 85.139364 \nL 141.68775 85.732655 \nL 142.009797 85.732655 \nL 142.221199 86.34834 \nL 142.738627 86.34834 \nL 142.941324 86.988176 \nL 143.141664 86.988176 \nL 143.339701 87.654134 \nL 143.632553 87.654134 \nL 143.825058 88.34844 \nL 144.203733 88.34844 \nL 144.389995 89.073613 \nL 145.204117 89.073613 \nL 145.379925 89.832527 \nL 145.981499 89.832527 \nL 146.149588 90.628476 \nL 147.045863 90.628476 \nL 147.203929 91.46526 \nL 147.89781 91.46526 \nL 148.048283 92.347298 \nL 148.271556 92.347298 \nL 148.418814 93.279764 \nL 148.924524 93.279764 \nL 149.066328 94.268777 \nL 150.160603 94.268777 \nL 150.292627 95.32164 \nL 150.937985 95.32164 \nL 151.064205 96.44717 \nL 151.802706 96.44717 \nL 151.922769 97.656146 \nL 153.246518 97.656146 \nL 153.411918 98.96194 \nL 154.16346 98.96194 \nL 154.320326 100.381419 \nL 155.767318 100.381419 \nL 155.910299 101.936282 \nL 157.496218 101.936282 \nL 157.625598 103.655104 \nL 159.106809 103.655104 \nL 159.224682 105.576583 \nL 161.427128 105.576583 \nL 161.564412 107.754976 \nL 164.102675 107.754976 \nL 164.22028 110.269746 \nL 166.674046 110.269746 \nL 166.800637 113.244088 \nL 170.013187 113.244088 \nL 170.138338 116.884388 \nL 174.078225 116.884388 \nL 174.19358 121.577552 \nL 179.386586 121.577552 \nL 179.507662 128.192194 \nL 186.804309 128.192194 \nL 186.922398 139.5 \nL 199.583039 139.5 \nL 199.583039 139.5 \n\" clip-path=\"url(#p1cca911136)\" style=\"fill: none; stroke: #1f77b4; stroke-width: 1.5; stroke-linecap: square\"/>\n   </g>\n   <g id=\"line2d_89\">\n    <path d=\"M -1 55.798556 \nL 54.355398 55.812292 \nL 73.283433 62.523752 \nL 78.239918 62.966686 \nL 82.084468 64.04951 \nL 85.225693 64.536523 \nL 87.881561 67.023852 \nL 90.182179 68.425892 \nL 92.211467 69.506666 \nL 94.026728 70.664152 \nL 95.668831 70.905841 \nL 97.167953 72.171104 \nL 98.547012 72.436374 \nL 99.823822 72.436374 \nL 101.012502 72.706028 \nL 102.124439 75.357316 \nL 103.168943 75.357316 \nL 104.153728 76.009951 \nL 105.085254 76.009951 \nL 105.968988 76.689788 \nL 106.809596 76.689788 \nL 108.376952 77.399192 \nL 109.813537 77.399192 \nL 110.489273 77.765807 \nL 111.139502 77.765807 \nL 111.766082 78.917842 \nL 112.370672 79.32067 \nL 112.954763 79.32067 \nL 113.5197 79.733698 \nL 115.111204 79.733698 \nL 115.610631 80.592513 \nL 116.095988 81.039492 \nL 117.027514 81.039492 \nL 117.475047 81.971958 \nL 118.336679 81.971958 \nL 118.751856 82.960971 \nL 119.157264 82.960971 \nL 119.940537 84.013834 \nL 121.052474 84.013834 \nL 121.755798 85.139364 \nL 122.431533 85.139364 \nL 122.759715 85.732655 \nL 123.708342 85.732655 \nL 124.013289 86.34834 \nL 124.607453 86.34834 \nL 124.897023 86.988176 \nL 125.46196 86.988176 \nL 125.737631 87.654134 \nL 126.539126 87.654134 \nL 126.798214 88.34844 \nL 127.552891 88.34844 \nL 127.797279 89.073613 \nL 129.636789 89.073613 \nL 129.853509 89.832527 \nL 130.898013 89.832527 \nL 131.099525 90.628476 \nL 131.495612 90.628476 \nL 131.690292 91.46526 \nL 133.173275 91.46526 \nL 133.349985 92.347298 \nL 134.538666 92.347298 \nL 134.701976 93.279764 \nL 135.182817 93.279764 \nL 135.340161 94.268777 \nL 137.542607 94.268777 \nL 137.679891 95.32164 \nL 139.980509 95.32164 \nL 140.099741 96.44717 \nL 141.795769 96.44717 \nL 142.009797 97.656146 \nL 143.535488 97.656146 \nL 143.729074 98.96194 \nL 145.292245 98.96194 \nL 145.467161 100.381419 \nL 147.438341 100.381419 \nL 147.592863 101.936282 \nL 150.488785 101.936282 \nL 150.618327 103.655104 \nL 152.854296 103.655104 \nL 152.967273 105.576583 \nL 156.099112 105.576583 \nL 156.239376 107.754976 \nL 159.458036 107.754976 \nL 159.573538 110.269746 \nL 163.225151 110.269746 \nL 163.348879 113.244088 \nL 167.828811 113.244088 \nL 167.947224 116.884388 \nL 174.127757 116.884388 \nL 174.242782 121.577552 \nL 182.204847 121.577552 \nL 182.31796 128.192194 \nL 195.476893 128.192194 \nL 195.591119 139.5 \nL 225.183389 139.5 \nL 225.183389 139.5 \n\" clip-path=\"url(#p1cca911136)\" style=\"fill: none; stroke-dasharray: 5.55,2.4; stroke-dashoffset: 0; stroke: #bf00bf; stroke-width: 1.5\"/>\n   </g>\n   <g id=\"line2d_90\">\n    <path d=\"M -1 83.998438 \nL 54.355398 84.013834 \nL 66.297658 87.654134 \nL 73.283433 94.268777 \nL 78.239918 95.32164 \nL 82.084468 95.32164 \nL 85.225693 96.44717 \nL 87.881561 96.44717 \nL 90.182179 97.656146 \nL 92.211467 97.656146 \nL 94.026728 98.96194 \nL 98.547012 98.96194 \nL 99.823822 100.381419 \nL 105.968988 100.381419 \nL 106.809596 101.936282 \nL 109.813537 101.936282 \nL 110.489273 103.655104 \nL 114.0667 103.655104 \nL 114.596866 105.576583 \nL 121.052474 105.576583 \nL 121.407725 107.754976 \nL 126.276082 107.754976 \nL 126.539126 110.269746 \nL 132.632004 110.269746 \nL 132.814324 113.244088 \nL 140.568588 113.244088 \nL 140.683833 116.884388 \nL 148.271556 116.884388 \nL 148.418814 121.577552 \nL 160.651867 121.577552 \nL 160.795443 128.192194 \nL 181.787153 128.192194 \nL 181.903032 139.5 \nL 231.900852 139.5 \nL 231.900852 139.5 \n\" clip-path=\"url(#p1cca911136)\" style=\"fill: none; stroke-dasharray: 9.6,2.4,1.5,2.4; stroke-dashoffset: 0; stroke: #008000; stroke-width: 1.5\"/>\n   </g>\n   <g id=\"patch_3\">\n    <path d=\"M 45.478125 145.8 \nL 45.478125 7.2 \n\" style=\"fill: none; stroke: #000000; stroke-width: 0.8; stroke-linejoin: miter; stroke-linecap: square\"/>\n   </g>\n   <g id=\"patch_4\">\n    <path d=\"M 240.778125 145.8 \nL 240.778125 7.2 \n\" style=\"fill: none; stroke: #000000; stroke-width: 0.8; stroke-linejoin: miter; stroke-linecap: square\"/>\n   </g>\n   <g id=\"patch_5\">\n    <path d=\"M 45.478125 145.8 \nL 240.778125 145.8 \n\" style=\"fill: none; stroke: #000000; stroke-width: 0.8; stroke-linejoin: miter; stroke-linecap: square\"/>\n   </g>\n   <g id=\"patch_6\">\n    <path d=\"M 45.478125 7.2 \nL 240.778125 7.2 \n\" style=\"fill: none; stroke: #000000; stroke-width: 0.8; stroke-linejoin: miter; stroke-linecap: square\"/>\n   </g>\n   <g id=\"legend_1\">\n    <g id=\"patch_7\">\n     <path d=\"M 159.996875 59.234375 \nL 233.778125 59.234375 \nQ 235.778125 59.234375 235.778125 57.234375 \nL 235.778125 14.2 \nQ 235.778125 12.2 233.778125 12.2 \nL 159.996875 12.2 \nQ 157.996875 12.2 157.996875 14.2 \nL 157.996875 57.234375 \nQ 157.996875 59.234375 159.996875 59.234375 \nz\n\" style=\"fill: #ffffff; opacity: 0.8; stroke: #cccccc; stroke-linejoin: miter\"/>\n    </g>\n    <g id=\"line2d_91\">\n     <path d=\"M 161.996875 20.298438 \nL 171.996875 20.298438 \nL 181.996875 20.298438 \n\" style=\"fill: none; stroke: #1f77b4; stroke-width: 1.5; stroke-linecap: square\"/>\n    </g>\n    <g id=\"text_12\">\n     <!-- unigram -->\n     <g transform=\"translate(189.996875 23.798438) scale(0.1 -0.1)\">\n      <defs>\n       <path id=\"DejaVuSans-69\" d=\"M 603 3500 \nL 1178 3500 \nL 1178 0 \nL 603 0 \nL 603 3500 \nz\nM 603 4863 \nL 1178 4863 \nL 1178 4134 \nL 603 4134 \nL 603 4863 \nz\n\" transform=\"scale(0.015625)\"/>\n       <path id=\"DejaVuSans-67\" d=\"M 2906 1791 \nQ 2906 2416 2648 2759 \nQ 2391 3103 1925 3103 \nQ 1463 3103 1205 2759 \nQ 947 2416 947 1791 \nQ 947 1169 1205 825 \nQ 1463 481 1925 481 \nQ 2391 481 2648 825 \nQ 2906 1169 2906 1791 \nz\nM 3481 434 \nQ 3481 -459 3084 -895 \nQ 2688 -1331 1869 -1331 \nQ 1566 -1331 1297 -1286 \nQ 1028 -1241 775 -1147 \nL 775 -588 \nQ 1028 -725 1275 -790 \nQ 1522 -856 1778 -856 \nQ 2344 -856 2625 -561 \nQ 2906 -266 2906 331 \nL 2906 616 \nQ 2728 306 2450 153 \nQ 2172 0 1784 0 \nQ 1141 0 747 490 \nQ 353 981 353 1791 \nQ 353 2603 747 3093 \nQ 1141 3584 1784 3584 \nQ 2172 3584 2450 3431 \nQ 2728 3278 2906 2969 \nL 2906 3500 \nL 3481 3500 \nL 3481 434 \nz\n\" transform=\"scale(0.015625)\"/>\n       <path id=\"DejaVuSans-61\" d=\"M 2194 1759 \nQ 1497 1759 1228 1600 \nQ 959 1441 959 1056 \nQ 959 750 1161 570 \nQ 1363 391 1709 391 \nQ 2188 391 2477 730 \nQ 2766 1069 2766 1631 \nL 2766 1759 \nL 2194 1759 \nz\nM 3341 1997 \nL 3341 0 \nL 2766 0 \nL 2766 531 \nQ 2569 213 2275 61 \nQ 1981 -91 1556 -91 \nQ 1019 -91 701 211 \nQ 384 513 384 1019 \nQ 384 1609 779 1909 \nQ 1175 2209 1959 2209 \nL 2766 2209 \nL 2766 2266 \nQ 2766 2663 2505 2880 \nQ 2244 3097 1772 3097 \nQ 1472 3097 1187 3025 \nQ 903 2953 641 2809 \nL 641 3341 \nQ 956 3463 1253 3523 \nQ 1550 3584 1831 3584 \nQ 2591 3584 2966 3190 \nQ 3341 2797 3341 1997 \nz\n\" transform=\"scale(0.015625)\"/>\n       <path id=\"DejaVuSans-6d\" d=\"M 3328 2828 \nQ 3544 3216 3844 3400 \nQ 4144 3584 4550 3584 \nQ 5097 3584 5394 3201 \nQ 5691 2819 5691 2113 \nL 5691 0 \nL 5113 0 \nL 5113 2094 \nQ 5113 2597 4934 2840 \nQ 4756 3084 4391 3084 \nQ 3944 3084 3684 2787 \nQ 3425 2491 3425 1978 \nL 3425 0 \nL 2847 0 \nL 2847 2094 \nQ 2847 2600 2669 2842 \nQ 2491 3084 2119 3084 \nQ 1678 3084 1418 2786 \nQ 1159 2488 1159 1978 \nL 1159 0 \nL 581 0 \nL 581 3500 \nL 1159 3500 \nL 1159 2956 \nQ 1356 3278 1631 3431 \nQ 1906 3584 2284 3584 \nQ 2666 3584 2933 3390 \nQ 3200 3197 3328 2828 \nz\n\" transform=\"scale(0.015625)\"/>\n      </defs>\n      <use xlink:href=\"#DejaVuSans-75\"/>\n      <use xlink:href=\"#DejaVuSans-6e\" x=\"63.378906\"/>\n      <use xlink:href=\"#DejaVuSans-69\" x=\"126.757812\"/>\n      <use xlink:href=\"#DejaVuSans-67\" x=\"154.541016\"/>\n      <use xlink:href=\"#DejaVuSans-72\" x=\"218.017578\"/>\n      <use xlink:href=\"#DejaVuSans-61\" x=\"259.130859\"/>\n      <use xlink:href=\"#DejaVuSans-6d\" x=\"320.410156\"/>\n     </g>\n    </g>\n    <g id=\"line2d_92\">\n     <path d=\"M 161.996875 34.976563 \nL 171.996875 34.976563 \nL 181.996875 34.976563 \n\" style=\"fill: none; stroke-dasharray: 5.55,2.4; stroke-dashoffset: 0; stroke: #bf00bf; stroke-width: 1.5\"/>\n    </g>\n    <g id=\"text_13\">\n     <!-- bigram -->\n     <g transform=\"translate(189.996875 38.476563) scale(0.1 -0.1)\">\n      <defs>\n       <path id=\"DejaVuSans-62\" d=\"M 3116 1747 \nQ 3116 2381 2855 2742 \nQ 2594 3103 2138 3103 \nQ 1681 3103 1420 2742 \nQ 1159 2381 1159 1747 \nQ 1159 1113 1420 752 \nQ 1681 391 2138 391 \nQ 2594 391 2855 752 \nQ 3116 1113 3116 1747 \nz\nM 1159 2969 \nQ 1341 3281 1617 3432 \nQ 1894 3584 2278 3584 \nQ 2916 3584 3314 3078 \nQ 3713 2572 3713 1747 \nQ 3713 922 3314 415 \nQ 2916 -91 2278 -91 \nQ 1894 -91 1617 61 \nQ 1341 213 1159 525 \nL 1159 0 \nL 581 0 \nL 581 4863 \nL 1159 4863 \nL 1159 2969 \nz\n\" transform=\"scale(0.015625)\"/>\n      </defs>\n      <use xlink:href=\"#DejaVuSans-62\"/>\n      <use xlink:href=\"#DejaVuSans-69\" x=\"63.476562\"/>\n      <use xlink:href=\"#DejaVuSans-67\" x=\"91.259766\"/>\n      <use xlink:href=\"#DejaVuSans-72\" x=\"154.736328\"/>\n      <use xlink:href=\"#DejaVuSans-61\" x=\"195.849609\"/>\n      <use xlink:href=\"#DejaVuSans-6d\" x=\"257.128906\"/>\n     </g>\n    </g>\n    <g id=\"line2d_93\">\n     <path d=\"M 161.996875 49.654688 \nL 171.996875 49.654688 \nL 181.996875 49.654688 \n\" style=\"fill: none; stroke-dasharray: 9.6,2.4,1.5,2.4; stroke-dashoffset: 0; stroke: #008000; stroke-width: 1.5\"/>\n    </g>\n    <g id=\"text_14\">\n     <!-- trigram -->\n     <g transform=\"translate(189.996875 53.154688) scale(0.1 -0.1)\">\n      <use xlink:href=\"#DejaVuSans-74\"/>\n      <use xlink:href=\"#DejaVuSans-72\" x=\"39.208984\"/>\n      <use xlink:href=\"#DejaVuSans-69\" x=\"80.322266\"/>\n      <use xlink:href=\"#DejaVuSans-67\" x=\"108.105469\"/>\n      <use xlink:href=\"#DejaVuSans-72\" x=\"171.582031\"/>\n      <use xlink:href=\"#DejaVuSans-61\" x=\"212.695312\"/>\n      <use xlink:href=\"#DejaVuSans-6d\" x=\"273.974609\"/>\n     </g>\n    </g>\n   </g>\n  </g>\n </g>\n <defs>\n  <clipPath id=\"p1cca911136\">\n   <rect x=\"45.478125\" y=\"7.2\" width=\"195.3\" height=\"138.6\"/>\n  </clipPath>\n </defs>\n</svg>\n"
          },
          "metadata": {}
        }
      ]
    },
    {
      "cell_type": "markdown",
      "source": [
        "### Observations about n-grams\n",
        "\n",
        "* the word distributation has a heavy tail\n",
        "* other n-grams also follow the power-law distribution\n",
        "* number of n_grams with larger n descreases."
      ],
      "metadata": {
        "id": "OueLXLNzdCll"
      }
    },
    {
      "cell_type": "markdown",
      "source": [
        "## Partitioning Sequence\n",
        "\n",
        "How to obtain features and labels for a corpus of indices that we constructed before for constructing a dataset? How to read minibatches of input sequences and target sequences at random?\n",
        "\n",
        "Suppose we have a corpus of tokens/indices of size T. We will partition the corpus into subsequencies, where each subsequence has n (number of time steps that the model will handle) tokens. To iterate over (almost) all tokens in the entire dataset for each epoch and obtain all possible n-length subsequences we can introduce randomness.\n",
        "\n",
        "1. At the beginning of each epoch, sample a random number $d\\in [0, n)$. This injects randomness between epochs and makes sure we see all the length-n subsequencies across different epochs, while going over all the text in on epoch.\n",
        "2. The rest of the sequence is then partitioned into $m = ⌊(T-d)/n⌋$ subsequencies of length n. The resulting subsequencies are $\\bf{x}_d, \\bf{x}_{d+n}, \\bf{x}_{d+2n}, \\bf{x}_{d+(m-1)n}$ where $\\bf{x}_i$ represents the tokens starting from i to i+n-1. Each subsequence will be used as an input example/sequence to LM.\n",
        "3. The target sequence for any $\\bf{x}_t$ input sequence is the sequence shifted by 1 $\\bf{x}_{t+1}$. I think we are doing n-ahead prediction and hence the targets are of size n.\n",
        "\n",
        "This way we get m training examples of size n, with n target for n-ahead prediction, or could be discarded as needed.\n",
        "\n",
        "**Important** is that this way, we get some form of randomness and the training examples are not very correletad, e.g. if used n and shifted by one. and we can also see a better sample of the dataset, rather just the first parts or end parts, but the whole dataset is used at each epoch."
      ],
      "metadata": {
        "id": "InknIpdT5VFQ"
      }
    },
    {
      "cell_type": "code",
      "source": [
        "@d2l.add_to_class(TimeMachine)\n",
        "def __init__(self, batch_size, num_steps, num_train=10000, num_val=5000):\n",
        "    super(TimeMachine, self).__init__()\n",
        "    self.save_hyperparameters()\n",
        "    corpus, self.vocab = self.build(self._download())\n",
        "    array = torch.tensor([corpus[i : i+num_steps+1] for i in range(len(corpus) - num_steps)])\n",
        "    self.X, self.Y = array[:,:-1], array[:,1:]\n",
        "\n",
        "@d2l.add_to_class(TimeMachine)\n",
        "def get_dataloader(self, train):\n",
        "    idx = slice(0, self.num_train) if train else slice(self.num_train, self.num_train + self.num_val)\n",
        "    return self.get_tensorloader([self.X, self.Y], train, idx)"
      ],
      "metadata": {
        "id": "4uNd7FYQ9su3"
      },
      "execution_count": 76,
      "outputs": []
    },
    {
      "cell_type": "code",
      "source": [
        "data = TimeMachine(batch_size=2, num_steps=10)\n",
        "for X, Y in data.get_dataloader(True):\n",
        "    print('X:', X, '\\nY:', Y)\n",
        "    break"
      ],
      "metadata": {
        "colab": {
          "base_uri": "https://localhost:8080/"
        },
        "id": "ZFjiqAAe_4sc",
        "outputId": "dac92a68-b4e1-4fa6-9d25-607788092765"
      },
      "execution_count": 80,
      "outputs": [
        {
          "output_type": "stream",
          "name": "stdout",
          "text": [
            "X: tensor([[19, 10, 15,  8,  0, 14,  6, 21,  2, 13],\n",
            "        [ 6, 15, 21, 13, 26,  0, 10, 15,  0, 16]]) \n",
            "Y: tensor([[10, 15,  8,  0, 14,  6, 21,  2, 13, 13],\n",
            "        [15, 21, 13, 26,  0, 10, 15,  0, 16, 15]])\n"
          ]
        }
      ]
    },
    {
      "cell_type": "code",
      "source": [],
      "metadata": {
        "id": "KRsDyeFHAfzd"
      },
      "execution_count": null,
      "outputs": []
    }
  ]
}